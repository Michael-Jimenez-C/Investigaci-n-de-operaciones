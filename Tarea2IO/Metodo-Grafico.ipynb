{
  "nbformat": 4,
  "nbformat_minor": 0,
  "metadata": {
    "colab": {
      "private_outputs": true,
      "provenance": [],
      "collapsed_sections": [],
      "authorship_tag": "ABX9TyPYNfBxOvfC3YiX8kLyVAKM",
      "include_colab_link": true
    },
    "kernelspec": {
      "name": "python3",
      "display_name": "Python 3"
    },
    "language_info": {
      "name": "python"
    }
  },
  "cells": [
    {
      "cell_type": "markdown",
      "metadata": {
        "id": "view-in-github",
        "colab_type": "text"
      },
      "source": [
        "<a href=\"https://colab.research.google.com/github/Michael-Jimenez-C/Investigaci-n-de-operaciones/blob/main/Tarea2IO/Metodo-Grafico.ipynb\" target=\"_parent\"><img src=\"https://colab.research.google.com/assets/colab-badge.svg\" alt=\"Open In Colab\"/></a>"
      ]
    },
    {
      "cell_type": "code",
      "source": [
        "import matplotlib.pyplot as plt\n",
        "import numpy as np"
      ],
      "metadata": {
        "id": "Zp1r5KiRqBXT"
      },
      "execution_count": null,
      "outputs": []
    },
    {
      "cell_type": "markdown",
      "source": [
        "#Funcion"
      ],
      "metadata": {
        "id": "09ZBNMMkwnud"
      }
    },
    {
      "cell_type": "code",
      "source": [
        "class Condicion:\n",
        "  MENOR_IGUAL=0\n",
        "  MAYOR_IGUAL=1\n",
        "  MENOR=2\n",
        "  MAYOR=3\n",
        "  def __init__(self,coeficiente:float,corte:float, tipo:int=MENOR):\n",
        "    '''\n",
        "    Crea una inecuacion\n",
        "\n",
        "    '''\n",
        "    self.coeficiente=coeficiente\n",
        "    self.corte=corte\n",
        "    self.tipo=tipo\n",
        "    self.funcion=None\n",
        "\n",
        "  def __add__(self,other):\n",
        "    '''\n",
        "    Estas operaciones no se supone deban usarse por el usuario, son solo para poder hacer calculos sobre las intersecciones entre dos funciones.\n",
        "    '''\n",
        "    return Condicion(self.coeficiente+other.coeficiente,self.corte+other.corte,self.tipo)\n",
        "\n",
        "  def __sub__(self,other):\n",
        "    '''\n",
        "    Estas operaciones no se supone deban usarse por el usuario, son solo para poder hacer calculos sobre las intersecciones entre dos funciones.\n",
        "    '''\n",
        "    return Condicion(self.coeficiente-other.coeficiente,self.corte-other.corte,self.tipo)\n",
        "\n",
        "  def __repr__(self):\n",
        "    #Muestra la funcion\n",
        "    return \"y {} {}x+({})\".format([\"<=\",\">=\",\"<\",\">\"][self.tipo],self.coeficiente,self.corte)\n",
        "\n",
        "  def getCorte(self):\n",
        "    #Retorna los puntos de corte con el eje horizontal y el eje vertical\n",
        "    return ((0,self.corte),((-self.corte)/self.coeficiente,0))\n",
        "\n",
        "  def evaluar(self,x):\n",
        "    #Evalua un valor como si fuera una igualdad\n",
        "    if self.funcion==None:\n",
        "      self.funcion=lambda x:self.coeficiente*x+self.corte\n",
        "    return self.funcion(x)\n",
        "\n",
        "  def evaluarCondicion(self,x,y):\n",
        "    #evalua si se cumple la condicion para un numero dado, redondeado a 5 decimales.\n",
        "    return [lambda a,b: a<=b,lambda a,b: a>=b][self.tipo%2](round(y,5),round(self.evaluar(x),5))\n",
        "\n",
        "  def getInterseccion(self, other):\n",
        "    p=(self-other).getCorte()[1][0]\n",
        "    return p,self.evaluar(p)\n"
      ],
      "metadata": {
        "id": "iTtgdNW3q1h0"
      },
      "execution_count": null,
      "outputs": []
    },
    {
      "cell_type": "markdown",
      "source": [
        "#Solver"
      ],
      "metadata": {
        "id": "ikUs3VZYwhJ3"
      }
    },
    {
      "cell_type": "code",
      "source": [
        "class Solver:\n",
        "  def __init__(self, condiciones,positivas=False):\n",
        "    self.condiciones=condiciones\n",
        "    self.positivas=positivas\n",
        "  def __puntos(self):\n",
        "    k=self.condiciones\n",
        "    p=[]\n",
        "    for i in range(len(k)):\n",
        "      for j in range(i+1,len(k)):\n",
        "        try:\n",
        "          p.append(k[i].getInterseccion(k[j]))\n",
        "        except:\n",
        "          pass\n",
        "    if self.positivas:\n",
        "      for i in range(len(k)):\n",
        "        try:\n",
        "          w=k[i].getCorte()\n",
        "          p.append(w[0])\n",
        "          p.append(w[1])\n",
        "        except:\n",
        "          pass\n",
        "    return p\n",
        "\n",
        "  def solver(self):\n",
        "    p=self.__puntos()\n",
        "    s=p[:]\n",
        "    for i in self.condiciones:\n",
        "      for j in p:\n",
        "        if (not i.evaluarCondicion(j[0],j[1])) or (j[1]<0 or j[0]<0 if self.positivas else False):\n",
        "          if j in s:\n",
        "            s.remove(j)\n",
        "    return s"
      ],
      "metadata": {
        "id": "VQxuJ-MrwtNu"
      },
      "execution_count": null,
      "outputs": []
    },
    {
      "cell_type": "code",
      "source": [
        "condiciones=[Condicion(-2,3,Condicion.MAYOR),\n",
        "             Condicion(1,0,Condicion.MENOR_IGUAL),\n",
        "             Condicion(0,1/2,Condicion.MAYOR)]\n",
        "for i in condiciones:\n",
        "  print(i)\n",
        "w=Solver(condiciones,positivas=True)\n",
        "w.solver()\n",
        "x=np.linspace(0,2,10)\n",
        "plt.figure(figsize=(7,7))\n",
        "for i in condiciones:\n",
        "  plt.plot(x,i.evaluar(x))\n",
        "\n",
        "y=np.array(w.solver()).T\n",
        "if len(y)>0:\n",
        "  plt.scatter(y[0],y[1],color=\"red\")\n",
        "plt.grid()\n",
        "plt.show()"
      ],
      "metadata": {
        "id": "mzCHp_Klkt95"
      },
      "execution_count": null,
      "outputs": []
    }
  ]
}