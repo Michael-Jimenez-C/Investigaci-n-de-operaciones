{
  "nbformat": 4,
  "nbformat_minor": 0,
  "metadata": {
    "colab": {
      "private_outputs": true,
      "provenance": [],
      "collapsed_sections": [],
      "authorship_tag": "ABX9TyPxkugRlRXh7cgR00mJmFUA",
      "include_colab_link": true
    },
    "kernelspec": {
      "name": "python3",
      "display_name": "Python 3"
    },
    "language_info": {
      "name": "python"
    }
  },
  "cells": [
    {
      "cell_type": "markdown",
      "metadata": {
        "id": "view-in-github",
        "colab_type": "text"
      },
      "source": [
        "<a href=\"https://colab.research.google.com/github/Michael-Jimenez-C/Investigaci-n-de-operaciones/blob/main/Tarea2IO/Metodo-Grafico.ipynb\" target=\"_parent\"><img src=\"https://colab.research.google.com/assets/colab-badge.svg\" alt=\"Open In Colab\"/></a>"
      ]
    },
    {
      "cell_type": "code",
      "execution_count": null,
      "metadata": {
        "id": "OdCeu4tsxgVr"
      },
      "outputs": [],
      "source": [
        "#Libreria para extraer los datos\n",
        "import pandas as pd\n",
        "#Libreria de procesado numerico\n",
        "import numpy as np\n",
        "#Modelo regresor para poder hacer la red\n",
        "from sklearn.neural_network import MLPRegressor\n",
        "#Modulo para separar los datos\n",
        "from sklearn.model_selection import train_test_split\n",
        "#Libreria para guardar el modelo\n",
        "import joblib"
      ]
    },
    {
      "cell_type": "code",
      "source": [
        "#Voy a utilizar el dataset card_transdata\n",
        "df=pd.read_csv(\"./card_transdata.csv\")\n",
        "df.head()"
      ],
      "metadata": {
        "id": "tEDS3SMfzOFJ"
      },
      "execution_count": null,
      "outputs": []
    },
    {
      "cell_type": "code",
      "source": [
        "x=np.array(df.iloc[:-1,2:-1],dtype=\"int64\").T\n",
        "y=np.array(df[\"fraud\"],dtype=\"int64\")[:-1]\n",
        "\n",
        "X, X_t, Y, Y_t = train_test_split(x.T, y)"
      ],
      "metadata": {
        "id": "n6Mb6S73zf7O"
      },
      "execution_count": null,
      "outputs": []
    },
    {
      "cell_type": "code",
      "source": [
        "try:\n",
        "  #Carga los modelos preentrenados en caso de que existan\n",
        "  modela=joblib.load('modelo_entrenadoa.pkl')\n",
        "  modelb=joblib.load('modelo_entrenadob.pkl')\n",
        "except:\n",
        "  print(\"modelo A\")\n",
        "  modela=MLPRegressor(solver=\"adam\",\n",
        "                      alpha=1e-5,\n",
        "                      hidden_layer_sizes=(10,5,2),\n",
        "                      activation=\"logistic\")\n",
        "  modela.fit(X,Y)\n",
        "  print(\"Score:\", modela.score(X,Y))\n",
        "\n",
        "  if modela.score(X,Y)>.7:\n",
        "    joblib.dump(modela, 'modelo_entrenadoa.pkl')\n",
        "  \n",
        "  print(\"modelo B\")\n",
        "  modelb=MLPRegressor(solver=\"adam\",\n",
        "                      alpha=1e-5,\n",
        "                      hidden_layer_sizes=(10,5,2),\n",
        "                      activation=\"logistic\")\n",
        "  #Probabilidad complementaria\n",
        "  Y=np.ones(len(Y))-Y\n",
        "\n",
        "  modelb.fit(X,Y)\n",
        "  print(\"Score:\", modelb.score(X,Y))\n",
        "\n",
        "  if modelb.score(X,Y)>.7:\n",
        "    joblib.dump(modelb, 'modelo_entrenadob.pkl')"
      ],
      "metadata": {
        "id": "sL1uRC4m0PGQ"
      },
      "execution_count": null,
      "outputs": []
    },
    {
      "cell_type": "code",
      "source": [
        "entrada=np.array([[int(input(i+\">>\")) for i in [\"Ratio medio de compra\",\"Minorista habitual?\",\"uso chip?\",\"utilizó numero pin?\",\"compra online?\"]]])\n",
        "\n",
        "prediccion=np.array([modela.predict(entrada),modelb.predict(entrada)])\n",
        "\n",
        "prediccion=pow(np.e,prediccion)/sum(pow(np.e,prediccion))\n",
        "\n",
        "print([\"Fraude\",\"No es fraude\"][np.argmax(prediccion)])"
      ],
      "metadata": {
        "id": "ahRaPbO92GXx"
      },
      "execution_count": null,
      "outputs": []
    }
  ]
}