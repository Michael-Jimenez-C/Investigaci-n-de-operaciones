{
  "nbformat": 4,
  "nbformat_minor": 0,
  "metadata": {
    "colab": {
      "private_outputs": true,
      "provenance": [],
      "collapsed_sections": [],
      "authorship_tag": "ABX9TyOudQ9730O7OAab+vj50Goc",
      "include_colab_link": true
    },
    "kernelspec": {
      "name": "python3",
      "display_name": "Python 3"
    },
    "language_info": {
      "name": "python"
    }
  },
  "cells": [
    {
      "cell_type": "markdown",
      "metadata": {
        "id": "view-in-github",
        "colab_type": "text"
      },
      "source": [
        "<a href=\"https://colab.research.google.com/github/Michael-Jimenez-C/Investigaci-n-de-operaciones/blob/main/Tarea2IO/Metodo-Grafico.ipynb\" target=\"_parent\"><img src=\"https://colab.research.google.com/assets/colab-badge.svg\" alt=\"Open In Colab\"/></a>"
      ]
    },
    {
      "cell_type": "code",
      "source": [
        "import matplotlib.pyplot as plt\n",
        "import numpy as np"
      ],
      "metadata": {
        "id": "Zp1r5KiRqBXT"
      },
      "execution_count": null,
      "outputs": []
    },
    {
      "cell_type": "markdown",
      "source": [
        "#Funcion"
      ],
      "metadata": {
        "id": "09ZBNMMkwnud"
      }
    },
    {
      "cell_type": "code",
      "source": [
        "class Condicion:\n",
        "  MENOR_IGUAL=0\n",
        "  MAYOR_IGUAL=1\n",
        "  MENOR=2\n",
        "  MAYOR=3\n",
        "  def __init__(self,coeficiente:float,corte:float, tipo:int=MENOR, en='y'):\n",
        "    '''\n",
        "    Crea una condicion de la forma y (<=)(>=)(<)(>) coeficiente*x+corte\n",
        "    En caso de que el atributo \"en='x'\" se va a ignorar el coeficiente y\n",
        "    determinará una expresion de la forma x (<=)(>=)(<)(>) corte.\n",
        "\n",
        "    '''\n",
        "    self.coeficiente=coeficiente\n",
        "    self.corte=corte\n",
        "    self.tipo=tipo\n",
        "    self.en=en\n",
        "    self.funcion=None\n",
        "\n",
        "  def __add__(self,other):\n",
        "    '''\n",
        "    Estas operaciones no se supone deban usarse por el usuario, son solo para poder hacer calculos sobre las intersecciones entre dos funciones.\n",
        "    '''\n",
        "    return Condicion(self.coeficiente+other.coeficiente,self.corte+other.corte,self.tipo)\n",
        "\n",
        "  def __sub__(self,other):\n",
        "    '''\n",
        "    Estas operaciones no se supone deban usarse por el usuario, son solo para poder hacer calculos sobre las intersecciones entre dos funciones.\n",
        "    '''\n",
        "    return Condicion(self.coeficiente-other.coeficiente,self.corte-other.corte,self.tipo)\n",
        "\n",
        "  def __repr__(self):\n",
        "    #Muestra la funcion\n",
        "    if self.en=='y':\n",
        "      return \"y {} {}x+({})\".format([\"<=\",\">=\",\"<\",\">\"][self.tipo],self.coeficiente,self.corte)\n",
        "    return \"x {} ({})\".format([\"<=\",\">=\",\"<\",\">\"][self.tipo],self.corte)\n",
        "\n",
        "  def condicion(valor:float, tipo:int, en:str):\n",
        "    '''\n",
        "    Es un método que permite hacer una condicion simple por ejemplo y<3 o x>=5\n",
        "    '''\n",
        "    return Condicion(0,valor,tipo,en)\n",
        "\n",
        "  def getCorte(self):\n",
        "    #Retorna los puntos de corte con el eje horizontal y el eje vertical\n",
        "    return ((0,self.corte),((-self.corte)/self.coeficiente,0))\n",
        "\n",
        "  def evaluar(self,x):\n",
        "    #Evalua un valor como si fuera una igualdad\n",
        "    if self.en=='x':\n",
        "      salida=[]\n",
        "      for i in x:\n",
        "        if i==self.corte:\n",
        "          salida.append([0,1])\n",
        "        else:\n",
        "          salida.append(np.nan())\n",
        "        \n",
        "    if self.funcion==None:\n",
        "      self.funcion=lambda x:self.coeficiente*x+self.corte\n",
        "    return self.funcion(x)\n",
        "\n",
        "  def evaluarCondicion(self,x,y=0):\n",
        "    #evalua si se cumple la condicion para un numero dado, redondeado a 5 decimales.\n",
        "    f=[lambda a,b: a<=b,lambda a,b: a>=b][self.tipo%2]\n",
        "    if self.en=='y':\n",
        "      return f(round(y,5),round(self.evaluar(x),5))\n",
        "    else:\n",
        "      return f(x,self.corte)\n",
        "\n",
        "  def getInterseccion(self, other):\n",
        "    #Calcula la interseccion de dos rectas\n",
        "    if ((self.en=='x' or other.en=='x') and not(self.en=='x' and other.en=='x')):\n",
        "      a,b=(self,other) if self.en=='x' else (other,self)\n",
        "      return a.corte, b.evaluar(a.corte)\n",
        "    if (self.en=='y' and other.en=='y'):\n",
        "      p=(self-other).getCorte()[1][0]\n",
        "      return p,self.evaluar(p)\n",
        "    return None\n"
      ],
      "metadata": {
        "id": "iTtgdNW3q1h0"
      },
      "execution_count": null,
      "outputs": []
    },
    {
      "cell_type": "markdown",
      "source": [
        "#Solver"
      ],
      "metadata": {
        "id": "ikUs3VZYwhJ3"
      }
    },
    {
      "cell_type": "code",
      "source": [
        "class Solver:\n",
        "  def __init__(self, condiciones):\n",
        "    '''\n",
        "    Solver se encargará de hallar los vertices y de optimizar la funcion objetivo,\n",
        "    sin embargo no se va a pedir la funcion objetivo en el constructor\n",
        "    '''\n",
        "    self.condiciones=condiciones\n",
        "  def __puntos(self):\n",
        "    #retorna todas las intersecciones, pues se quiere poder utilizarlas para optimizar la funcion objetivo\n",
        "    k=self.condiciones\n",
        "    p=[]\n",
        "    for i in range(len(k)):\n",
        "      for j in range(i+1,len(k)):\n",
        "        try:\n",
        "          p.append(k[i].getInterseccion(k[j]))\n",
        "        except:\n",
        "          pass\n",
        "    return p\n",
        "\n",
        "  def vertices(self):\n",
        "    p=self.__puntos()\n",
        "    s=p[:]\n",
        "    for i in self.condiciones:\n",
        "      for j in p:\n",
        "        if (not i.evaluarCondicion(j[0],j[1])):\n",
        "          if j in s:\n",
        "            s.remove(j)\n",
        "    return s\n",
        "  \n",
        "  def optimizar(self,funcionObjetivo=lambda x,y: x+y, modo='max'):\n",
        "    puntos=self.vertices()\n",
        "    valores=[]\n",
        "    for i in puntos:\n",
        "      valores.append(funcionObjetivo(i[0],i[1]))\n",
        "    valores=np.array(valores)\n",
        "    if modo=='max':\n",
        "      return puntos[np.argmax(valores)], valores.max()\n",
        "    else:\n",
        "      return puntos[np.argmax(-valores)], valores.min()\n",
        "    \n"
      ],
      "metadata": {
        "id": "VQxuJ-MrwtNu"
      },
      "execution_count": null,
      "outputs": []
    },
    {
      "cell_type": "markdown",
      "source": [
        "##Prueba"
      ],
      "metadata": {
        "id": "OnmAp8UGRIsl"
      }
    },
    {
      "cell_type": "code",
      "source": [
        "condiciones=[Condicion(-2,3,Condicion.MAYOR),\n",
        "             Condicion(1,0,Condicion.MENOR_IGUAL),\n",
        "             Condicion(0,1/2,Condicion.MAYOR),\n",
        "             Condicion.condicion(2,Condicion.MENOR,'x')]\n",
        "\n",
        "for i in condiciones:\n",
        "  print(i)\n",
        "w=Solver(condiciones)\n",
        "print(w.vertices())\n",
        "x=np.linspace(0,2,10)\n",
        "plt.figure(figsize=(7,7))\n",
        "for i in condiciones:\n",
        "  try:\n",
        "    plt.plot(x,i.evaluar(x))\n",
        "  except:\n",
        "    pass\n",
        "\n",
        "y=np.array(w.vertices()).T\n",
        "if len(y)>0:\n",
        "  plt.scatter(y[0],y[1],color=\"red\")\n",
        "plt.grid()\n",
        "plt.show()"
      ],
      "metadata": {
        "id": "mzCHp_Klkt95"
      },
      "execution_count": null,
      "outputs": []
    },
    {
      "cell_type": "code",
      "source": [
        "w.optimizar(lambda x,y:x**2+np.log(y), modo='min')"
      ],
      "metadata": {
        "id": "KSMdjgIP2EqI"
      },
      "execution_count": null,
      "outputs": []
    },
    {
      "cell_type": "markdown",
      "source": [
        "#Graficador"
      ],
      "metadata": {
        "id": "dyoy9_YXRNhj"
      }
    },
    {
      "cell_type": "code",
      "source": [
        "xlims=(0,3)\n",
        "ylims=(0,3)\n",
        "\n",
        "X__=[np.linspace(xlims[0],xlims[1],300),np.linspace(ylims[0],ylims[1],300)]\n",
        "Y__=None\n",
        "for i in condiciones:\n",
        "  temp=np.array([[i.evaluarCondicion(x0,x1) for x0 in X__[0]] for x1 in X__[1]],dtype=\"int64\")\n",
        "  if type(Y__)==type(None):\n",
        "    Y__=-temp\n",
        "    continue\n",
        "  Y__-=temp\n",
        "\n",
        "plt.figure(figsize=(7,7))\n",
        "plt.pcolormesh(X__[0],X__[1],Y__,cmap=\"binary\")\n",
        "plt.xlim(xlims[0],xlims[1])\n",
        "plt.ylim(ylims[0],ylims[1])\n",
        "plt.show()"
      ],
      "metadata": {
        "id": "SGW7ynr7fY1V"
      },
      "execution_count": null,
      "outputs": []
    },
    {
      "cell_type": "code",
      "source": [
        "from matplotlib.colors import ListedColormap\n",
        "cmap = ListedColormap([\"white\",\"cyan\"])"
      ],
      "metadata": {
        "id": "oARMUY7XuTKl"
      },
      "execution_count": null,
      "outputs": []
    },
    {
      "cell_type": "code",
      "source": [
        "plt.figure(figsize=(7,7))\n",
        "plt.pcolormesh(X__[0],X__[1],-np.minimum(Y__.min()+1,Y__),cmap=cmap)\n",
        "plt.xlim(xlims[0],xlims[1])\n",
        "plt.ylim(ylims[0],ylims[1])"
      ],
      "metadata": {
        "id": "eXmxAdcfnoQf"
      },
      "execution_count": null,
      "outputs": []
    },
    {
      "cell_type": "code",
      "source": [
        "plt.figure(figsize=(7,7))\n",
        "plt.pcolormesh(X__[0],X__[1],-np.minimum(Y__.min()+1,Y__),cmap=cmap)\n",
        "plt.xlim(xlims[0],xlims[1])\n",
        "plt.ylim(ylims[0],ylims[1])\n",
        "\n",
        "x=X__[0]\n",
        "for i in condiciones:\n",
        "  try:\n",
        "    plt.plot(x,i.evaluar(x))\n",
        "  except:\n",
        "    pass\n",
        "\n",
        "y=np.array(w.vertices()).T\n",
        "if len(y)>0:\n",
        "  plt.scatter(y[0],y[1],color=\"red\")\n",
        "plt.grid()"
      ],
      "metadata": {
        "id": "B7u2z8fOz1V8"
      },
      "execution_count": null,
      "outputs": []
    }
  ]
}