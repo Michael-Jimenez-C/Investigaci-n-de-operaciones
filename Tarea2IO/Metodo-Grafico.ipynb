{
  "nbformat": 4,
  "nbformat_minor": 0,
  "metadata": {
    "colab": {
      "private_outputs": true,
      "provenance": [],
      "collapsed_sections": [],
      "authorship_tag": "ABX9TyPqCKNzABqFUEWV3hzt9lh1",
      "include_colab_link": true
    },
    "kernelspec": {
      "name": "python3",
      "display_name": "Python 3"
    },
    "language_info": {
      "name": "python"
    }
  },
  "cells": [
    {
      "cell_type": "markdown",
      "metadata": {
        "id": "view-in-github",
        "colab_type": "text"
      },
      "source": [
        "<a href=\"https://colab.research.google.com/github/Michael-Jimenez-C/Investigaci-n-de-operaciones/blob/main/Tarea2IO/Metodo-Grafico.ipynb\" target=\"_parent\"><img src=\"https://colab.research.google.com/assets/colab-badge.svg\" alt=\"Open In Colab\"/></a>"
      ]
    },
    {
      "cell_type": "code",
      "source": [
        "import matplotlib.pyplot as plt\n",
        "import numpy as np"
      ],
      "metadata": {
        "id": "Zp1r5KiRqBXT"
      },
      "execution_count": null,
      "outputs": []
    },
    {
      "cell_type": "markdown",
      "source": [
        "#Funcion"
      ],
      "metadata": {
        "id": "09ZBNMMkwnud"
      }
    },
    {
      "cell_type": "code",
      "source": [
        "class Funcion:\n",
        "  MENOR_IGUAL=0\n",
        "  MAYOR_IGUAL=1\n",
        "  MAYOR=2\n",
        "  MENOR=3\n",
        "  def __init__(self,coef:float,cort:float, tipo:int=MENOR):\n",
        "    self.coef=coef\n",
        "    self.cort=cort\n",
        "    self.tipo=tipo\n",
        "  def funcion(coef1,coef2,cort1,cort2, tipo=MENOR):\n",
        "    cort=(cort2-cort1)/coef1\n",
        "    coef=coef2/coef1\n",
        "    if coef1<0:\n",
        "      if tipo==Funcion.MENOR or tipo ==Funcion.MAYOR:\n",
        "        tipo=(Funcion.MAYOR if tipo==Funcion.MENOR else Funcion.MENOR)\n",
        "      else:\n",
        "        tipo=(Funcion.MAYOR_IGUAL if tipo==Funcion.MENOR_IGUAL else Funcion.MENOR_IGUAL)\n",
        "    return Funcion(coef,cort,tipo)\n",
        "  def corte(self):\n",
        "    return ((0,self.cort),((-self.cort)/self.coef,0))\n",
        "  def calc(self,x):\n",
        "    return self.coef*x+self.cort\n",
        "  def condicion(self,x,y):\n",
        "    return [lambda a,b: a<=b,lambda a,b: a>=b, lambda a,b:a>b, lambda a,b: a<b][self.tipo](y,self.calc(x))\n",
        "  def __add__(self,other):\n",
        "    if self.tipo!=other.tipo:\n",
        "      return None\n",
        "    return Funcion(self.coef+other.coef,self.cort+other.cort,self.tipo)\n",
        "  def __sub__(self,other):\n",
        "    if self.tipo!=other.tipo:\n",
        "      return None\n",
        "    return Funcion(self.coef-other.coef,self.cort-other.cort,self.tipo)\n",
        "  def __repr__(self):\n",
        "    return \"{}x+({}) {} y\".format(self.coef,self.cort, [\"<=\",\">=\",\">\",\"<\"][self.tipo]) \n",
        "  def interseccion(self, other):\n",
        "    p=(self-other).corte()[1][0]\n",
        "    return p,self.calc(p)\n"
      ],
      "metadata": {
        "id": "iTtgdNW3q1h0"
      },
      "execution_count": null,
      "outputs": []
    },
    {
      "cell_type": "markdown",
      "source": [
        "###Verificación"
      ],
      "metadata": {
        "id": "TVqL2FG3wdF-"
      }
    },
    {
      "cell_type": "code",
      "source": [
        "Funcion(-2,7).corte()"
      ],
      "metadata": {
        "id": "Z5UM4XtRZWaZ"
      },
      "execution_count": null,
      "outputs": []
    },
    {
      "cell_type": "code",
      "source": [
        "Funcion(-2,7).interseccion(Funcion(5,-10))"
      ],
      "metadata": {
        "id": "f1VJcKejtDvO"
      },
      "execution_count": null,
      "outputs": []
    },
    {
      "cell_type": "code",
      "source": [
        "x=np.linspace(-10,10,100)\n",
        "plt.plot(x,-2*x+7)\n",
        "plt.plot(x,5*x-10)\n",
        "plt.scatter(2.4285714285714284, 2.1428571428571432)"
      ],
      "metadata": {
        "id": "Obx-kCQpudH-"
      },
      "execution_count": null,
      "outputs": []
    },
    {
      "cell_type": "markdown",
      "source": [
        "#Solver"
      ],
      "metadata": {
        "id": "ikUs3VZYwhJ3"
      }
    },
    {
      "cell_type": "code",
      "source": [
        "class Solver:\n",
        "  def __init__(self, condiciones,positivas=True):\n",
        "    self.condiciones=condiciones\n",
        "    self.positivas=positivas\n",
        "  def __puntos(self):\n",
        "    k=self.condiciones\n",
        "    p=[]\n",
        "    for i in range(len(k)):\n",
        "      for j in range(i+1,len(k)):\n",
        "        p.append(k[i].interseccion(k[j]))\n",
        "    if self.positivas:\n",
        "      for i in range(len(k)):\n",
        "          w=k[i].corte()\n",
        "          p.append(w[0])\n",
        "          p.append(w[1])\n",
        "    return p\n",
        "  def solver(self):\n",
        "    p=self.__puntos()\n",
        "    s=p[:]\n",
        "    for i in self.condiciones:\n",
        "      for j in range(len(p)):\n",
        "        if (not i.condicion(p[j][0],p[j][1])) or (p[j][1]<0 or p[j][0]<0 if self.positivas else False):\n",
        "          if p[j] in s:\n",
        "            s.remove(p[j])\n",
        "    return s"
      ],
      "metadata": {
        "id": "VQxuJ-MrwtNu"
      },
      "execution_count": null,
      "outputs": []
    },
    {
      "cell_type": "code",
      "source": [
        "w=Solver([Funcion(5,2,Funcion.MENOR_IGUAL), Funcion(-2,10,Funcion.MENOR_IGUAL)])\n",
        "w.solver()"
      ],
      "metadata": {
        "id": "C9VScfcJZtEG"
      },
      "execution_count": null,
      "outputs": []
    },
    {
      "cell_type": "code",
      "source": [
        "x=np.linspace(-10,10,10)\n",
        "plt.plot(x,5*x+2)\n",
        "plt.plot(x,-2*x+10)\n",
        "y=np.array(w.solver()).T\n",
        "\n",
        "plt.scatter(y[0],y[1])\n",
        "plt.grid()\n",
        "plt.show()"
      ],
      "metadata": {
        "id": "mzCHp_Klkt95"
      },
      "execution_count": null,
      "outputs": []
    }
  ]
}