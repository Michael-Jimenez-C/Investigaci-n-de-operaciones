{
  "nbformat": 4,
  "nbformat_minor": 0,
  "metadata": {
    "colab": {
      "private_outputs": true,
      "provenance": [],
      "collapsed_sections": [],
      "authorship_tag": "ABX9TyMLBsE9Jti+LNzAe+CNDkmg",
      "include_colab_link": true
    },
    "kernelspec": {
      "name": "python3",
      "display_name": "Python 3"
    },
    "language_info": {
      "name": "python"
    }
  },
  "cells": [
    {
      "cell_type": "markdown",
      "metadata": {
        "id": "view-in-github",
        "colab_type": "text"
      },
      "source": [
        "<a href=\"https://colab.research.google.com/github/Michael-Jimenez-C/Investigaci-n-de-operaciones/blob/main/Tarea2IO/Metodo-Grafico.ipynb\" target=\"_parent\"><img src=\"https://colab.research.google.com/assets/colab-badge.svg\" alt=\"Open In Colab\"/></a>"
      ]
    },
    {
      "cell_type": "code",
      "source": [
        "import matplotlib.pyplot as plt\n",
        "import numpy as np"
      ],
      "metadata": {
        "id": "Zp1r5KiRqBXT"
      },
      "execution_count": null,
      "outputs": []
    },
    {
      "cell_type": "markdown",
      "source": [
        "#Funcion"
      ],
      "metadata": {
        "id": "09ZBNMMkwnud"
      }
    },
    {
      "cell_type": "code",
      "source": [
        "class Funcion:\n",
        "  MENOR_IGUAL=0\n",
        "  MAYOR_IGUAL=1\n",
        "  MAYOR=2\n",
        "  MENOR=3\n",
        "  def __init__(self,coeficiente:float,corte:float, tipo:int=MENOR):\n",
        "    self.coeficiente=coeficiente\n",
        "    self.corte=corte\n",
        "    self.tipo=tipo\n",
        "    self.funcion=None\n",
        "\n",
        "  def __add__(self,other):\n",
        "    '''\n",
        "    Estas operaciones no se supone deban usarse por el usuario, son solo para poder hacer calculos sobre las intersecciones entre dos funciones.\n",
        "    '''\n",
        "    return Funcion(self.coeficiente+other.coeficiente,self.corte+other.corte,self.tipo)\n",
        "\n",
        "  def __sub__(self,other):\n",
        "    '''\n",
        "    Estas operaciones no se supone deban usarse por el usuario, son solo para poder hacer calculos sobre las intersecciones entre dos funciones.\n",
        "    '''\n",
        "    return Funcion(self.coeficiente-other.coeficiente,self.corte-other.corte,self.tipo)\n",
        "\n",
        "  def __repr__(self):\n",
        "    return \"{}x+({}) {} y\".format(self.coeficiente,self.corte, [\"<=\",\">=\",\">\",\"<\"][self.tipo]) \n",
        "\n",
        "  def ecuacion(coef1,coef2,cort1,cort2, tipo=MENOR):\n",
        "    corte=(cort2-cort1)/coef1\n",
        "    coeficiente=coef2/coef1\n",
        "    if coef1<0:\n",
        "      if tipo==Funcion.MENOR or tipo ==Funcion.MAYOR:\n",
        "        tipo=(Funcion.MAYOR if tipo==Funcion.MENOR else Funcion.MENOR)\n",
        "      else:\n",
        "        tipo=(Funcion.MAYOR_IGUAL if tipo==Funcion.MENOR_IGUAL else Funcion.MENOR_IGUAL)\n",
        "    return Funcion(coeficiente,corte,tipo)\n",
        "\n",
        "  def getCorte(self):\n",
        "    return ((0,self.corte),((-self.corte)/self.coeficiente,0))\n",
        "\n",
        "  def evaluar(self,x):\n",
        "    if self.funcion==None:\n",
        "      self.funcion=lambda x:self.coeficiente*x+self.corte\n",
        "    return self.funcion(x)\n",
        "\n",
        "  def evaluarCondicion(self,x,y):\n",
        "    return [lambda a,b: a<=b,lambda a,b: a>=b, lambda a,b:a>b, lambda a,b: a<b][self.tipo](round(y,5),round(self.evaluar(x),5))\n",
        "\n",
        "  def getInterseccion(self, other):\n",
        "    p=(self-other).getCorte()[1][0]\n",
        "    return p,self.evaluar(p)\n"
      ],
      "metadata": {
        "id": "iTtgdNW3q1h0"
      },
      "execution_count": null,
      "outputs": []
    },
    {
      "cell_type": "markdown",
      "source": [
        "#Solver"
      ],
      "metadata": {
        "id": "ikUs3VZYwhJ3"
      }
    },
    {
      "cell_type": "code",
      "source": [
        "class Solver:\n",
        "  def __init__(self, condiciones,positivas=False):\n",
        "    self.condiciones=condiciones\n",
        "    self.positivas=positivas\n",
        "  def __puntos(self):\n",
        "    k=self.condiciones\n",
        "    p=[]\n",
        "    for i in range(len(k)):\n",
        "      for j in range(i+1,len(k)):\n",
        "        p.append(k[i].getInterseccion(k[j]))\n",
        "    if self.positivas:\n",
        "      for i in range(len(k)):\n",
        "          w=k[i].getCorte()\n",
        "          p.append(w[0])\n",
        "          p.append(w[1])\n",
        "    return p\n",
        "\n",
        "  def solver(self):\n",
        "    p=self.__puntos()\n",
        "    s=p[:]\n",
        "    for i in self.condiciones:\n",
        "      for j in p:\n",
        "        if (not i.evaluarCondicion(j[0],j[1])) or (j[1]<0 or j[0]<0 if self.positivas else False):\n",
        "          if j in s:\n",
        "            s.remove(j)\n",
        "    return s"
      ],
      "metadata": {
        "id": "VQxuJ-MrwtNu"
      },
      "execution_count": null,
      "outputs": []
    },
    {
      "cell_type": "code",
      "source": [
        "condiciones=[Funcion(-2,10,Funcion.MENOR_IGUAL),Funcion(10,-10,Funcion.MAYOR_IGUAL)]\n",
        "\n",
        "w=Solver(condiciones,positivas=True)\n",
        "w.solver()\n",
        "x=np.linspace(-10,10,10)\n",
        "for i in condiciones:\n",
        "  plt.plot(x,i.evaluar(x))\n",
        "\n",
        "y=np.array(w.solver()).T\n",
        "if len(y)>0:\n",
        "  plt.scatter(y[0],y[1],color=\"red\")\n",
        "plt.grid()\n",
        "plt.show()"
      ],
      "metadata": {
        "id": "mzCHp_Klkt95"
      },
      "execution_count": null,
      "outputs": []
    }
  ]
}