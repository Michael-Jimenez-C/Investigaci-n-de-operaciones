{
  "nbformat": 4,
  "nbformat_minor": 0,
  "metadata": {
    "colab": {
      "private_outputs": true,
      "provenance": [],
      "collapsed_sections": [],
      "authorship_tag": "ABX9TyN1+6qguffIc+smPtcMBg+Z",
      "include_colab_link": true
    },
    "kernelspec": {
      "name": "python3",
      "display_name": "Python 3"
    },
    "language_info": {
      "name": "python"
    }
  },
  "cells": [
    {
      "cell_type": "markdown",
      "metadata": {
        "id": "view-in-github",
        "colab_type": "text"
      },
      "source": [
        "<a href=\"https://colab.research.google.com/github/Michael-Jimenez-C/Investigaci-n-de-operaciones/blob/main/Tarea2IO/Metodo-Grafico.ipynb\" target=\"_parent\"><img src=\"https://colab.research.google.com/assets/colab-badge.svg\" alt=\"Open In Colab\"/></a>"
      ]
    },
    {
      "cell_type": "code",
      "source": [
        "import matplotlib.pyplot as plt\n",
        "from matplotlib.colors import ListedColormap\n",
        "import numpy as np"
      ],
      "metadata": {
        "id": "Zp1r5KiRqBXT"
      },
      "execution_count": null,
      "outputs": []
    },
    {
      "cell_type": "markdown",
      "source": [
        "#Funcion"
      ],
      "metadata": {
        "id": "09ZBNMMkwnud"
      }
    },
    {
      "cell_type": "code",
      "source": [
        "class Condicion:\n",
        "  MENOR_IGUAL=0\n",
        "  MAYOR_IGUAL=1\n",
        "  MENOR=2\n",
        "  MAYOR=3\n",
        "  def __init__(self,coeficiente:float,corte:float, tipo:int=MENOR, en='y'):\n",
        "    '''\n",
        "    Crea una condicion de la forma y (<=)(>=)(<)(>) coeficiente*x+corte\n",
        "    En caso de que el atributo \"en='x'\" se va a ignorar el coeficiente y\n",
        "    determinará una expresion de la forma x (<=)(>=)(<)(>) corte.\n",
        "\n",
        "    '''\n",
        "    self.coeficiente=coeficiente\n",
        "    self.corte=corte\n",
        "    self.tipo=tipo\n",
        "    self.en=en\n",
        "    self.funcion=None\n",
        "\n",
        "  def __add__(self,other):\n",
        "    '''\n",
        "    Estas operaciones no se supone deban usarse por el usuario, son solo para poder hacer calculos sobre las intersecciones entre dos funciones.\n",
        "    '''\n",
        "    return Condicion(self.coeficiente+other.coeficiente,self.corte+other.corte,self.tipo)\n",
        "\n",
        "  def __sub__(self,other):\n",
        "    '''\n",
        "    Estas operaciones no se supone deban usarse por el usuario, son solo para poder hacer calculos sobre las intersecciones entre dos funciones.\n",
        "    '''\n",
        "    return Condicion(self.coeficiente-other.coeficiente,self.corte-other.corte,self.tipo)\n",
        "\n",
        "  def __repr__(self):\n",
        "    #Muestra la funcion\n",
        "    if self.en=='y':\n",
        "      return \"y {} {}x+({})\".format([\"<=\",\">=\",\"<\",\">\"][self.tipo],self.coeficiente,self.corte)\n",
        "    return \"x {} ({})\".format([\"<=\",\">=\",\"<\",\">\"][self.tipo],self.corte)\n",
        "\n",
        "  def condicion(valor:float, tipo:int, en:str):\n",
        "    '''\n",
        "    Es un método que permite hacer una condicion simple por ejemplo y<3 o x>=5\n",
        "    '''\n",
        "    return Condicion(0,valor,tipo,en)\n",
        "\n",
        "  def getCorte(self):\n",
        "    #Retorna los puntos de corte con el eje horizontal y el eje vertical\n",
        "    return ((0,self.corte),((-self.corte)/self.coeficiente,0))\n",
        "\n",
        "  def __evaluar(self,x):\n",
        "    #Evalua un valor como si fuera una igualdad\n",
        "    if self.en=='x':\n",
        "      return np.nan\n",
        "        \n",
        "    if self.funcion==None:\n",
        "      self.funcion=lambda x:self.coeficiente*x+self.corte\n",
        "    return self.funcion(x)\n",
        "\n",
        "  \n",
        "  def evaluar(self,x):\n",
        "    #Evalua un valor como si fuera una igualdad, pero retorna la salida que mejor se ajuste a la solucion dada, por ejemplo si es una recta vertical\n",
        "    #retorna en x el punto en el que es valido y para y dos puntos que la describen\n",
        "    if self.en=='x':\n",
        "      return np.array(2*[self.corte]), np.array([-1000,1000])\n",
        "        \n",
        "    if self.funcion==None:\n",
        "      self.funcion=lambda x:self.coeficiente*x+self.corte\n",
        "    return x,self.funcion(x)\n",
        "\n",
        "  def evaluarCondicion(self,x,y=0):\n",
        "    #evalua si se cumple la condicion para un numero dado, redondeado a 5 decimales.\n",
        "    f=[lambda a,b: a<=b,lambda a,b: a>=b][self.tipo%2]\n",
        "    if self.en=='y':\n",
        "      return f(round(y,5),round(self.__evaluar(x),5))\n",
        "    else:\n",
        "      return f(x,self.corte)\n",
        "\n",
        "  def getInterseccion(self, other):\n",
        "    #Calcula la interseccion de dos rectas\n",
        "    #Si una interseccion no es posible se retorna None\n",
        "    if ((self.en=='x' or other.en=='x') and not(self.en=='x' and other.en=='x')):\n",
        "      a,b=(self,other) if self.en=='x' else (other,self)\n",
        "      return a.corte, b.__evaluar(a.corte)\n",
        "    \n",
        "\n",
        "    if (self.en=='y' and other.en=='y'):\n",
        "      p=(self-other).getCorte()[1][0]\n",
        "      return p,self.__evaluar(p)\n",
        "    return 0,np.nan"
      ],
      "metadata": {
        "id": "iTtgdNW3q1h0"
      },
      "execution_count": null,
      "outputs": []
    },
    {
      "cell_type": "markdown",
      "source": [
        "#Solver"
      ],
      "metadata": {
        "id": "ikUs3VZYwhJ3"
      }
    },
    {
      "cell_type": "code",
      "source": [
        "class Solver:\n",
        "  def __init__(self, condiciones):\n",
        "    '''\n",
        "    Solver se encargará de hallar los vertices y de optimizar la funcion objetivo,\n",
        "    sin embargo no se va a pedir la funcion objetivo en el constructor\n",
        "    '''\n",
        "    self.condiciones=condiciones\n",
        "  def __puntos(self):\n",
        "    #Retorna todas las intersecciones, pues se quiere poder utilizarlas para optimizar la funcion objetivo\n",
        "    k=self.condiciones\n",
        "    p=[]\n",
        "    #Pasa por todas las posibles interseccionas y guarda los puntos en p\n",
        "    for i in range(len(k)):\n",
        "      for j in range(i+1,len(k)):\n",
        "        try:\n",
        "          p.append(k[i].getInterseccion(k[j]))\n",
        "        except:\n",
        "          pass\n",
        "    return p\n",
        "\n",
        "  def vertices(self):\n",
        "    #Vertices es una funcion que solo retorna las intersecciones válidas que cumplan todas las condiciones\n",
        "    p=self.__puntos()\n",
        "    s=p[:]\n",
        "    for i in self.condiciones:\n",
        "      for j in p:\n",
        "        #Si el vertice no cumple la condicion es eliminado de s\n",
        "        try:\n",
        "          if (not i.evaluarCondicion(j[0],j[1])):\n",
        "            if j in s:\n",
        "              s.remove(j)\n",
        "        except:\n",
        "          pass\n",
        "    return s\n",
        "  \n",
        "  def optimizar(self,funcionObjetivo=lambda x,y: x+y, modo='max',integer=False):\n",
        "    #optimizar es una funcion que dado un conjunto de puntos evalua la funcion objetivo y determina cual es el maximo o el minimo\n",
        "    puntos=self.vertices()\n",
        "    valores=[]\n",
        "    #Evalua la funcion objetivo en todos los puntos validos\n",
        "    for i in range(len(puntos)):\n",
        "      if integer:\n",
        "        puntos[i]=(int(puntos[i][0]),int(puntos[i][1]))\n",
        "    for i in puntos:\n",
        "      valores.append(funcionObjetivo(i[0],i[1]))\n",
        "    valores=np.array(valores)\n",
        "    #Retorna un valor u otro dependiendo del modo, si es min el minimo y si es max el maximo\n",
        "    for i in range(len(valores)):\n",
        "      print(puntos[i],valores[i])\n",
        "    if modo=='max':\n",
        "      return puntos[np.argmax(valores)], valores.max()\n",
        "    else:\n",
        "      return puntos[np.argmax(-valores)], valores.min()"
      ],
      "metadata": {
        "id": "VQxuJ-MrwtNu"
      },
      "execution_count": null,
      "outputs": []
    },
    {
      "cell_type": "markdown",
      "source": [
        "#Clase Graficador"
      ],
      "metadata": {
        "id": "Rt2Ngux4-Y-0"
      }
    },
    {
      "cell_type": "code",
      "source": [
        "class Graficador:\n",
        "  def __init__(self,condiciones,solver,xlims,ylims):\n",
        "    self.condiciones=condiciones\n",
        "    self.xlims=xlims\n",
        "    self.ylims=ylims\n",
        "    self.solver=solver\n",
        "  def plot(self):\n",
        "    #Grafica la región solucion y tambien las rectas que lo definen\n",
        "    condiciones,xlims,ylims,solver=self.condiciones,self.xlims,self.ylims,self.solver\n",
        "\n",
        "    #Para colorear la región solucion se crea un mapa de puntos del espacio del plano utilizado\n",
        "    X__=[np.linspace(xlims[0],xlims[1],300),np.linspace(ylims[0],ylims[1],300)]\n",
        "    Y__=None\n",
        "    #se asigna un valor de altura en cada caso si cumple la condicion, el area de altura 0 es la solucion y todo por debajo de eso, no.\n",
        "    for i in condiciones:\n",
        "      temp=np.array([[i.evaluarCondicion(x0,x1) for x0 in X__[0]] for x1 in X__[1]],dtype=\"int64\")\n",
        "      if type(Y__)==type(None):\n",
        "        Y__=-temp\n",
        "        continue\n",
        "      Y__-=temp\n",
        "    #crea un color map que determina un color blanco para los puntos cuya altura sea mas pequeña y cyan para aquellos que sea mas alta\n",
        "    cmap = ListedColormap([\"white\",\"cyan\"])\n",
        "    plt.figure(figsize=(7,7))\n",
        "    #Se crea la rejilla de color utilizando una función -ReLu modificada\n",
        "    plt.pcolormesh(X__[0],X__[1],-np.minimum(Y__.min()+1,Y__),cmap=cmap)\n",
        "    plt.xlim(xlims[0],xlims[1])\n",
        "    plt.ylim(ylims[0],ylims[1])\n",
        "\n",
        "    #Toma el eje horizontal del mapa\n",
        "    x=X__[0]\n",
        "\n",
        "    y=np.array(solver.vertices()).T\n",
        "    #Dibuja los vetices válidos\n",
        "    plt.scatter(xlims[0]-1,0,color=\"cyan\",label=\"Región Solución\")\n",
        "    if len(y)>0:\n",
        "      plt.scatter(y[0],y[1],color=\"red\")\n",
        "    plt.grid()\n",
        "    #Dibuja las diferentes rectas\n",
        "    for i in condiciones:\n",
        "        xi,yi=i.evaluar(x)\n",
        "        plt.plot(xi,yi)\n",
        "    plt.legend()"
      ],
      "metadata": {
        "id": "HrPcHwmz-ax_"
      },
      "execution_count": null,
      "outputs": []
    },
    {
      "cell_type": "markdown",
      "source": [
        "#Final"
      ],
      "metadata": {
        "id": "xDbpjsqJ-cke"
      }
    },
    {
      "cell_type": "code",
      "source": [
        "class MetodoGrafico:\n",
        "  #Guarda todos los procedimiento de forma reducida\n",
        "  def visualizacion(condiciones, xlims, ylims):\n",
        "    #Crea un solver de las condiciones dadas\n",
        "    solver=Solver(condiciones)\n",
        "    #Grafica la situación\n",
        "    graf=Graficador(condiciones,solver,xlims,ylims).plot()\n",
        "  \n",
        "  def optimizar(condiciones,funcionObjetivo,modo,integer=False):\n",
        "    #optimiza según el modo creando el solver y pasando el modo de solucion\n",
        "    solver=Solver(condiciones)\n",
        "    try:\n",
        "      return solver.optimizar(funcionObjetivo,modo,integer=integer)\n",
        "    except:\n",
        "      return 0\n",
        "  def vertices(condiciones):\n",
        "    solver=Solver(condiciones)\n",
        "    return solver.vertices()"
      ],
      "metadata": {
        "id": "zh5E_CJ9-dQZ"
      },
      "execution_count": null,
      "outputs": []
    },
    {
      "cell_type": "markdown",
      "source": [
        "#Resolucion de ejercicios"
      ],
      "metadata": {
        "id": "STMEMinDRCFl"
      }
    },
    {
      "cell_type": "code",
      "source": [
        "#Variables que indican x,y positivos\n",
        "xpositivo=Condicion.condicion(0,Condicion.MAYOR_IGUAL,en='x')\n",
        "ypositivo=Condicion.condicion(0,Condicion.MAYOR_IGUAL,en='y')\n",
        "#Conjunto de ejercicios\n",
        "ejemplos=[[Condicion(-2,5,Condicion.MENOR)],\n",
        "          [Condicion.condicion(5,Condicion.MENOR_IGUAL,en='y')],\n",
        "          [Condicion(1/2,1,Condicion.MAYOR)],\n",
        "          [Condicion(-2,3,Condicion.MAYOR),Condicion(0,1/2,Condicion.MAYOR),Condicion(1,0,Condicion.MENOR_IGUAL)],\n",
        "          [xpositivo,ypositivo,Condicion(-2/3,20,Condicion.MENOR_IGUAL)],\n",
        "          [Condicion(-2,180,Condicion.MENOR_IGUAL),Condicion(-1/2,80,Condicion.MENOR_IGUAL),Condicion(-1,100,Condicion.MENOR_IGUAL),xpositivo,ypositivo]]\n",
        "\n",
        "#Limites de graficacion\n",
        "limites=[((-1,5),(-1,5)),((-5,5),(0,10)),((-3,3),(-1,4)),((-1,5),(-1,5)),((-10,40),(-10,30)),((-10,120),(-10,110))]\n",
        "\n",
        "#Graficación por cada caso\n",
        "for i in range(len(ejemplos)):\n",
        "  condiciones=ejemplos[i]\n",
        "  for j in condiciones:\n",
        "    print(j)\n",
        "  p=limites[i]\n",
        "  MetodoGrafico.visualizacion(condiciones,p[0],p[1])\n",
        "  print(MetodoGrafico.vertices(condiciones))\n",
        "  plt.show()"
      ],
      "metadata": {
        "id": "mG5tRBNSIPAy"
      },
      "execution_count": null,
      "outputs": []
    },
    {
      "cell_type": "code",
      "source": [
        "#Lista de condiciones\n",
        "condiciones=[xpositivo,\n",
        "             ypositivo,\n",
        "             Condicion(-3/2,1200,Condicion.MENOR_IGUAL),\n",
        "             Condicion.condicion(800,Condicion.MENOR_IGUAL,en='y'),\n",
        "             Condicion.condicion(600,Condicion.MENOR_IGUAL,en='x')] \n",
        "\n",
        "for j in condiciones:\n",
        "  print(j)\n",
        "MetodoGrafico.visualizacion(condiciones,(-50,850),(-50,850))\n",
        "plt.savefig(\"ej2.png\")\n",
        "plt.show()"
      ],
      "metadata": {
        "id": "Jx-CZiAxiG3i"
      },
      "execution_count": null,
      "outputs": []
    },
    {
      "cell_type": "code",
      "source": [
        "MetodoGrafico.optimizar(condiciones,lambda x,y:4*x+2*y,modo='min')"
      ],
      "metadata": {
        "id": "uLwTF0fRHm0a"
      },
      "execution_count": null,
      "outputs": []
    }
  ]
}