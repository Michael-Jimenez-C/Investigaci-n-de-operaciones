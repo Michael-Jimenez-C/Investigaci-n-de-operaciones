{
  "nbformat": 4,
  "nbformat_minor": 0,
  "metadata": {
    "colab": {
      "private_outputs": true,
      "provenance": [],
      "authorship_tag": "ABX9TyNh29SoTep28fq/WddBSKG9",
      "include_colab_link": true
    },
    "kernelspec": {
      "name": "python3",
      "display_name": "Python 3"
    },
    "language_info": {
      "name": "python"
    }
  },
  "cells": [
    {
      "cell_type": "markdown",
      "metadata": {
        "id": "view-in-github",
        "colab_type": "text"
      },
      "source": [
        "<a href=\"https://colab.research.google.com/github/Michael-Jimenez-C/Investigaci-n-de-operaciones/blob/main/Tarea3IO/Metodo_simplex.ipynb\" target=\"_parent\"><img src=\"https://colab.research.google.com/assets/colab-badge.svg\" alt=\"Open In Colab\"/></a>"
      ]
    },
    {
      "cell_type": "code",
      "execution_count": null,
      "metadata": {
        "id": "IJMZB-yNHS_L"
      },
      "outputs": [],
      "source": [
        "import numpy as np\n",
        "\n",
        "sim=['x','y','t','u','v']\n",
        "P=[[2,1,1,0,0,180],\n",
        "  [1,2,0,1,0,160],\n",
        "  [1,1,0,0,1,100],\n",
        "  [4,6,0,0,0,0]]"
      ]
    },
    {
      "cell_type": "code",
      "source": [
        "class MetodoSimplex:\n",
        "  def solve(M,sim,H=None):\n",
        "    if type(H)==type(None):\n",
        "      H=sim[len(sim)-len(M)+1:]\n",
        "    M=np.array(M,dtype=\"float64\")\n",
        "    ve=np.argmax(M[-1])\n",
        "    vs=np.argmin(M[:-1,-1]/M[:-1,ve])\n",
        "    H[vs]=sim[ve]\n",
        "    M[vs]=M[vs]/M[vs][ve]\n",
        "    \n",
        "    for i in range(len(M)):\n",
        "      if i!=vs:\n",
        "        M[i]=M[i]-M[vs]*M[i][ve]\n",
        "        \n",
        "    if len(M[-1][M[-1]>=1])>0:\n",
        "      return MetodoSimplex.solve(M,sim,H)\n",
        "    \n",
        "    H.append(\"Resultado\")\n",
        "    M[-1][-1]*=-1\n",
        "    return {H[i]: M[i][-1] for i in range(len(H))}\n"
      ],
      "metadata": {
        "id": "Xkq3xaa0UcM6"
      },
      "execution_count": null,
      "outputs": []
    },
    {
      "cell_type": "code",
      "source": [
        "MetodoSimplex.solve(p,sim)"
      ],
      "metadata": {
        "id": "dncZaKrvd9xg"
      },
      "execution_count": null,
      "outputs": []
    }
  ]
}