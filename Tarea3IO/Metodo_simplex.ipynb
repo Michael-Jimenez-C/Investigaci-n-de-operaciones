{
  "nbformat": 4,
  "nbformat_minor": 0,
  "metadata": {
    "colab": {
      "private_outputs": true,
      "provenance": [],
      "authorship_tag": "ABX9TyOswJGo+MjFYCJ5NfZpHare",
      "include_colab_link": true
    },
    "kernelspec": {
      "name": "python3",
      "display_name": "Python 3"
    },
    "language_info": {
      "name": "python"
    }
  },
  "cells": [
    {
      "cell_type": "markdown",
      "metadata": {
        "id": "view-in-github",
        "colab_type": "text"
      },
      "source": [
        "<a href=\"https://colab.research.google.com/github/Michael-Jimenez-C/Investigaci-n-de-operaciones/blob/main/Tarea3IO/Metodo_simplex.ipynb\" target=\"_parent\"><img src=\"https://colab.research.google.com/assets/colab-badge.svg\" alt=\"Open In Colab\"/></a>"
      ]
    },
    {
      "cell_type": "code",
      "execution_count": null,
      "metadata": {
        "id": "IJMZB-yNHS_L"
      },
      "outputs": [],
      "source": [
        "import numpy as np"
      ]
    },
    {
      "cell_type": "code",
      "source": [
        "class MetodoSimplex:\n",
        "  def solve(M,sim,H):\n",
        "    M=np.array(M,dtype=\"float64\")\n",
        "    ve=np.argmax(M[-1,:-1])\n",
        "    vs=np.argmin(M[:-1,-1]/M[:-1,ve])\n",
        "    H[vs]=sim[ve]\n",
        "    M[vs]=M[vs]/M[vs][ve]\n",
        "    \n",
        "    for i in range(len(M)):\n",
        "      if i!=vs:\n",
        "        M[i]=M[i]*M[vs][ve]-M[vs]*M[i][ve]\n",
        "    print(M,\"\\n\")\n",
        "    if len(M[-1][M[-1]>=1])>0:\n",
        "      return MetodoSimplex.solve(M,sim,H)\n",
        "    \n",
        "    H.append(\"Resultado\")\n",
        "    M[-1][-1]*=-1\n",
        "    return {H[i]: M[i][-1] for i in range(len(H))}\n",
        "  \n",
        "  def solve2(M,sim,H):\n",
        "    M=np.array(M,dtype=\"float64\")\n",
        "    ve=np.argmax(M[-1,:-1])\n",
        "    vs=np.argmin(M[:-1,-1]/M[:-1,ve])\n",
        "    H[vs]=sim[ve]\n",
        "    M[vs]=M[vs]/M[vs][ve]\n",
        "    \n",
        "    for i in range(len(M)):\n",
        "      if i!=vs:\n",
        "        M[i]=M[i]*M[vs][ve]-M[vs]*M[i][ve]\n",
        "    return M\n"
      ],
      "metadata": {
        "id": "Xkq3xaa0UcM6"
      },
      "execution_count": null,
      "outputs": []
    },
    {
      "cell_type": "code",
      "source": [
        "sim=['x','y','t','u','v']\n",
        "H=['t','u','v']\n",
        "M=[[2,1,1,0,0,180],\n",
        "  [1,2,0,1,0,160],\n",
        "  [1,1,0,0,1,100],\n",
        "  [4,6,0,0,0,0]]\n",
        "MetodoSimplex.solve(M,sim,H)"
      ],
      "metadata": {
        "id": "dncZaKrvd9xg"
      },
      "execution_count": null,
      "outputs": []
    },
    {
      "cell_type": "code",
      "source": [
        "sim=['x','y','t','u','v']\n",
        "H=['t','u','v']\n",
        "M=[[3,2,1,0,0,2400],\n",
        "  [0,1,0,1,0,800],\n",
        "  [2,0,0,0,1,1200],\n",
        "  [5,2,0,0,0,0]]\n",
        "MetodoSimplex.solve(M,sim,H)"
      ],
      "metadata": {
        "id": "ZVy19cpjVkqB"
      },
      "execution_count": null,
      "outputs": []
    },
    {
      "cell_type": "markdown",
      "source": [
        "#Min"
      ],
      "metadata": {
        "id": "_CYsudpjmQl4"
      }
    },
    {
      "cell_type": "code",
      "source": [
        "sim=['x','y','t','u','v']\n",
        "H=['t','u','v']\n",
        "if True:\n",
        "  M=[[-5,-15,1,0,0,-50],\n",
        "    [-20,-5,0,1,0,-40],\n",
        "    [15,2,0,0,1,60],\n",
        "    [4,2,0,0,0,0]]\n",
        "else:\n",
        "  M=[[-1,-2,1,0,-3],\n",
        "    [2,-4,0,1,5],\n",
        "    [15,12,0,0,0]]\n",
        "M=np.array(M,dtype=\"float64\")\n",
        "M"
      ],
      "metadata": {
        "id": "f-tnLQYOWISA"
      },
      "execution_count": null,
      "outputs": []
    },
    {
      "cell_type": "code",
      "source": [
        "vs =np.argmin([i for i in M[:-1,-1]])\n",
        "\n",
        "ve=np.argmin([(i if i!=0 else np.inf) for i in np.nan_to_num(-M[-1,:-1]/M[vs,:-1],0)])\n",
        "\n",
        "H[vs]=sim[ve]\n",
        "M[vs]=M[vs]/M[vs][ve]\n",
        "for i in range(len(M)):\n",
        "      if i!=vs:\n",
        "        M[i]=M[i]*M[vs][ve]-M[vs]*M[i][ve]\n",
        "M.round()"
      ],
      "metadata": {
        "id": "lnhUJjVmmPyq"
      },
      "execution_count": null,
      "outputs": []
    },
    {
      "cell_type": "code",
      "source": [
        "H"
      ],
      "metadata": {
        "id": "p-d7vCOo8X-5"
      },
      "execution_count": null,
      "outputs": []
    },
    {
      "cell_type": "markdown",
      "source": [
        "https://rstudio-pubs-static.s3.amazonaws.com/711850_69666fa30d314789b2a1361ba7a542db.html#_Método_Simplex_"
      ],
      "metadata": {
        "id": "Qz3Pk0GK0T_U"
      }
    }
  ]
}