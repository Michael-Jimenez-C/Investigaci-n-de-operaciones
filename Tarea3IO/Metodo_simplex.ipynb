{
  "nbformat": 4,
  "nbformat_minor": 0,
  "metadata": {
    "colab": {
      "private_outputs": true,
      "provenance": [],
      "authorship_tag": "ABX9TyNm+yOQAfo1AKA0U+s8H7ti",
      "include_colab_link": true
    },
    "kernelspec": {
      "name": "python3",
      "display_name": "Python 3"
    },
    "language_info": {
      "name": "python"
    }
  },
  "cells": [
    {
      "cell_type": "markdown",
      "metadata": {
        "id": "view-in-github",
        "colab_type": "text"
      },
      "source": [
        "<a href=\"https://colab.research.google.com/github/Michael-Jimenez-C/Investigaci-n-de-operaciones/blob/main/Tarea3IO/Metodo_simplex.ipynb\" target=\"_parent\"><img src=\"https://colab.research.google.com/assets/colab-badge.svg\" alt=\"Open In Colab\"/></a>"
      ]
    },
    {
      "cell_type": "code",
      "execution_count": null,
      "metadata": {
        "id": "IJMZB-yNHS_L"
      },
      "outputs": [],
      "source": [
        "import numpy as np"
      ]
    },
    {
      "cell_type": "code",
      "source": [
        "class MetodoSimplex:\n",
        "  #------------------------Método simplex base---------------------------\n",
        "  def solve(M,sim,H):\n",
        "    M=np.array(M,dtype=\"float64\")\n",
        "    ve=np.argmax(M[-1,:-1])\n",
        "    vs=np.argmin(M[:-1,-1]/M[:-1,ve])\n",
        "    H[vs]=sim[ve]\n",
        "    M[vs]=M[vs]/M[vs][ve]\n",
        "    \n",
        "    for i in range(len(M)):\n",
        "      if i!=vs:\n",
        "        M[i]=M[i]*M[vs][ve]-M[vs]*M[i][ve]\n",
        "    print(M,\"\\n\")\n",
        "    if len(M[-1,:-1][M[-1,:-1]>0])>0:\n",
        "      return MetodoSimplex.solve(M,sim,H)\n",
        "    \n",
        "    H.append(\"Resultado\")\n",
        "    M[-1][-1]*=-1\n",
        "    return {H[i]: M[i][-1] for i in range(len(H))}\n",
        "  \n",
        "  #------------------------Método dual---------------------------\n",
        "  def __divsim(a,b):\n",
        "    k=[]\n",
        "    for i in range(len(a)):\n",
        "      if (a[i]>0 and b[i]<0) or (a[i]<0 and b[i]>0):\n",
        "        k.append(a[i]/b[i])\n",
        "      else:\n",
        "        k.append(-np.inf)\n",
        "    return np.array(k)\n",
        "\n",
        "  def dual(M,sim,H):\n",
        "    M=np.array(M,dtype=\"float64\")\n",
        "    vs =np.argmin([i for i in M[:-1,-1]])\n",
        "    ve=np.argmax(MetodoSimplex.__divsim(M[-1,:-1],M[vs,:-1]))\n",
        "\n",
        "    H[vs]=sim[ve]\n",
        "    M[vs]=M[vs]/M[vs][ve]\n",
        "    for i in range(len(M)):\n",
        "      if i!=vs:\n",
        "        M[i]=M[i]*M[vs][ve]-M[vs]*M[i][ve]\n",
        "    print(M)\n",
        "    if len(M[:-1,-1][M[:-1,-1]<0])>0:\n",
        "      return MetodoSimplex.dual(M,sim,H)\n",
        "    H.append(\"Resultado\")\n",
        "    M[-1][-1]=abs(M[-1][-1])\n",
        "    return {H[i]: M[i][-1] for i in range(len(H))}"
      ],
      "metadata": {
        "id": "Xkq3xaa0UcM6"
      },
      "execution_count": null,
      "outputs": []
    },
    {
      "cell_type": "code",
      "source": [
        "sim=['x','y','t','u','v']\n",
        "H=['t','u','v']\n",
        "M=[[2,1,1,0,0,180],\n",
        "  [1,2,0,1,0,160],\n",
        "  [1,1,0,0,1,100],\n",
        "  [4,6,0,0,0,0]]\n",
        "MetodoSimplex.solve(M,sim,H)"
      ],
      "metadata": {
        "id": "dncZaKrvd9xg"
      },
      "execution_count": null,
      "outputs": []
    },
    {
      "cell_type": "code",
      "source": [
        "sim=['x','y','t','u','v']\n",
        "H=['t','u','v']\n",
        "M=[[3,2,1,0,0,2400],\n",
        "  [0,1,0,1,0,800],\n",
        "  [2,0,0,0,1,1200],\n",
        "  [5,2,0,0,0,0]]\n",
        "MetodoSimplex.solve(M,sim,H)"
      ],
      "metadata": {
        "id": "ZVy19cpjVkqB"
      },
      "execution_count": null,
      "outputs": []
    },
    {
      "cell_type": "markdown",
      "source": [
        "#Min"
      ],
      "metadata": {
        "id": "_CYsudpjmQl4"
      }
    },
    {
      "cell_type": "code",
      "source": [
        "sim=['x','y','t','u','v']\n",
        "H=['t','u','v']\n",
        "M=[[-5,-15,1,0,0,-50],\n",
        "    [-20,-5,0,1,0,-40],\n",
        "    [15,2,0,0,1,60],\n",
        "    [4,2,0,0,0,0]]\n",
        "MetodoSimplex.dual(M,sim,H)"
      ],
      "metadata": {
        "id": "f-tnLQYOWISA"
      },
      "execution_count": null,
      "outputs": []
    }
  ]
}