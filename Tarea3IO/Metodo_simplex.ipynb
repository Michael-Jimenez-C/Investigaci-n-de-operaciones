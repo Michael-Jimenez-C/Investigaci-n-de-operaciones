{
  "nbformat": 4,
  "nbformat_minor": 0,
  "metadata": {
    "colab": {
      "private_outputs": true,
      "provenance": [],
      "authorship_tag": "ABX9TyPXKnU5YiKOEyIGKDWEhS93",
      "include_colab_link": true
    },
    "kernelspec": {
      "name": "python3",
      "display_name": "Python 3"
    },
    "language_info": {
      "name": "python"
    }
  },
  "cells": [
    {
      "cell_type": "markdown",
      "metadata": {
        "id": "view-in-github",
        "colab_type": "text"
      },
      "source": [
        "<a href=\"https://colab.research.google.com/github/Michael-Jimenez-C/Investigaci-n-de-operaciones/blob/main/Tarea3IO/Metodo_simplex.ipynb\" target=\"_parent\"><img src=\"https://colab.research.google.com/assets/colab-badge.svg\" alt=\"Open In Colab\"/></a>"
      ]
    },
    {
      "cell_type": "code",
      "execution_count": null,
      "metadata": {
        "id": "IJMZB-yNHS_L"
      },
      "outputs": [],
      "source": [
        "import numpy as np"
      ]
    },
    {
      "cell_type": "code",
      "source": [
        "class MetodoSimplex:\n",
        "  #------------------------Método simplex base---------------------------\n",
        "  def solve(M,sim,H):\n",
        "    M=np.array(M,dtype=\"float64\")\n",
        "    #Selecciona el pivote\n",
        "    ve=np.argmax(M[-1,:-1])\n",
        "    vs=np.argmin(M[:-1,-1]/M[:-1,ve])\n",
        "    #Hace el remplazo de la variable\n",
        "    H[vs]=sim[ve]\n",
        "    M[vs]=M[vs]/M[vs][ve]\n",
        "    #Hace ceros en la columna del pivote\n",
        "    for i in range(len(M)):\n",
        "      #Realiza el procedimiento solo si la fila no es la del pivote\n",
        "      if i!=vs:\n",
        "        M[i]=M[i]*M[vs][ve]-M[vs]*M[i][ve]\n",
        "    print(M,\"\\n\")\n",
        "    #Verifica si hay numeros positivos en la ultima fila exceptuando el resultado en p\n",
        "    if len(M[-1,:-1][M[-1,:-1]>0])>0:\n",
        "      #Si hay positivos mayores a cero llama a la funcion pero con la nueva matriz\n",
        "      return MetodoSimplex.solve(M,sim,H)\n",
        "    #a grega a H un valor resultado para devolver un diccionario con los valores\n",
        "    H.append(\"Resultado\")\n",
        "    M[-1][-1]*=-1\n",
        "    return {H[i]: M[i][-1] for i in range(len(H))}\n",
        "  \n",
        "  #------------------------Método dual---------------------------\n",
        "  #Esta funcion permite hacer la division valida del método dual, la cual solo puede hacerse si son de signo opuesto\n",
        "  def __divsim(a,b):\n",
        "    k=[]\n",
        "    for i in range(len(a)):\n",
        "      if (a[i]>0 and b[i]<0) or (a[i]<0 and b[i]>0):\n",
        "        k.append(a[i]/b[i])\n",
        "      else:\n",
        "        #Como el algoritmo va a pedir el número más grande agrega un menos infinito para asegurar que nunca sea seleccionado\n",
        "        k.append(-np.inf)\n",
        "    return np.array(k)\n",
        "\n",
        "  def dual(M,sim,H):\n",
        "    M=np.array(M,dtype=\"float64\")\n",
        "    #Selecciona al pivote\n",
        "    vs =np.argmin([i for i in M[:-1,-1]])#Toma el minimo de un arreglo clon de la ultima columna de M\n",
        "    ve=np.argmax(MetodoSimplex.__divsim(M[-1,:-1],M[vs,:-1]))#Selecciona el máximo de la division realizada\n",
        "    #Hace el remplazo\n",
        "    H[vs]=sim[ve]\n",
        "    M[vs]=M[vs]/M[vs][ve]\n",
        "    #Hace el despeje\n",
        "    for i in range(len(M)):\n",
        "      if i!=vs:\n",
        "        M[i]=M[i]*M[vs][ve]-M[vs]*M[i][ve]\n",
        "    print(M,\"\\n\")\n",
        "    #Si hay numeros negativos en la ultima columna vuelve a ejecutar simplex pero con la nueva matriz\n",
        "    if len(M[:-1,-1][M[:-1,-1]<0])>0:\n",
        "      return MetodoSimplex.dual(M,sim,H)\n",
        "    H.append(\"Resultado\")\n",
        "    M[-1][-1]=abs(M[-1][-1])\n",
        "    return {H[i]: M[i][-1] for i in range(len(H))}"
      ],
      "metadata": {
        "id": "Xkq3xaa0UcM6"
      },
      "execution_count": null,
      "outputs": []
    },
    {
      "cell_type": "markdown",
      "source": [
        "#Max"
      ],
      "metadata": {
        "id": "X4P3db1NjHqx"
      }
    },
    {
      "cell_type": "code",
      "source": [
        "sim=['x','y','t','u','v']\n",
        "H=['t','u','v']\n",
        "M=[[2,1,1,0,0,180],\n",
        "  [1,2,0,1,0,160],\n",
        "  [1,1,0,0,1,100],\n",
        "  [4,6,0,0,0,0]]\n",
        "MetodoSimplex.solve(M,sim,H)"
      ],
      "metadata": {
        "id": "dncZaKrvd9xg"
      },
      "execution_count": null,
      "outputs": []
    },
    {
      "cell_type": "code",
      "source": [
        "sim=['x','y','u','t']\n",
        "H=['u','t']\n",
        "M=[[5,3,1,0,105],\n",
        "   [2,4,0,1,70],\n",
        "   [200,100,0,0,0]]\n",
        "MetodoSimplex.solve(M,sim,H)"
      ],
      "metadata": {
        "id": "lhRQuAx_ZnYg"
      },
      "execution_count": null,
      "outputs": []
    },
    {
      "cell_type": "code",
      "source": [
        "sim=['x','y','t','u','v']\n",
        "H=['t','u','v']\n",
        "M=[[3,2,1,0,0,2400],\n",
        "  [0,1,0,1,0,800],\n",
        "  [2,0,0,0,1,1200],\n",
        "  [5,2,0,0,0,0]]\n",
        "MetodoSimplex.solve(M,sim,H)"
      ],
      "metadata": {
        "id": "ZVy19cpjVkqB"
      },
      "execution_count": null,
      "outputs": []
    },
    {
      "cell_type": "markdown",
      "source": [
        "#Min"
      ],
      "metadata": {
        "id": "_CYsudpjmQl4"
      }
    },
    {
      "cell_type": "code",
      "source": [
        "sim=['x','y','t','u','v']\n",
        "H=['t','u','v']\n",
        "M=[[-5,-15,1,0,0,-50],\n",
        "    [-20,-5,0,1,0,-40],\n",
        "    [15,2,0,0,1,60],\n",
        "    [4,2,0,0,0,0]]\n",
        "MetodoSimplex.dual(M,sim,H)"
      ],
      "metadata": {
        "id": "f-tnLQYOWISA"
      },
      "execution_count": null,
      "outputs": []
    },
    {
      "cell_type": "code",
      "source": [
        "sim=['x1','x2','s1','s2','s3','s4']\n",
        "H=['s1','s2','s3','s4']\n",
        "M=[[-6,-2,1,0,0,0,-6],\n",
        "   [ 4, 3,0,1,0,0, 6],\n",
        "   [-4,-3,0,0,1,0,-6],\n",
        "   [1 , 2,0,0,0,1, 4],\n",
        "   [8 , 2,0,0,0,0, 0]]\n",
        "MetodoSimplex.dual(M,sim,H)"
      ],
      "metadata": {
        "id": "-Vp7kRPKAYdb"
      },
      "execution_count": null,
      "outputs": []
    },
    {
      "cell_type": "markdown",
      "source": [
        "#Método de la gran M"
      ],
      "metadata": {
        "id": "vkALAA3lG_pq"
      }
    },
    {
      "cell_type": "code",
      "source": [
        "def solve(M,sim,H):\n",
        "  M=np.array(M,dtype=\"float64\")\n",
        "  #Selecciona el pivote\n",
        "  ve=np.argmax(M[-1,:-1])\n",
        "  vs=np.argmin([(i if i>0 else np.inf) for i in M[:-1,-1]/M[:-1,ve]])\n",
        "  #Hace el remplazo de la variable\n",
        "  H[vs]=sim[ve]\n",
        "  M[vs]=M[vs]/M[vs][ve]\n",
        "  #Hace ceros en la columna del pivote\n",
        "  for i in range(len(M)):\n",
        "    #Realiza el procedimiento solo si la fila no es la del pivote\n",
        "    if i!=vs:\n",
        "      M[i]=M[i]*M[vs][ve]-M[vs]*M[i][ve]\n",
        "  print(M)\n",
        "  #Verifica si hay numeros positivos en la ultima fila exceptuando el resultado en p\n",
        "  if len(M[-1,:-1][M[-1,:-1]>0])>0:\n",
        "    #Si hay positivos mayores a cero llama a la funcion pero con la nueva matriz\n",
        "    return solve(M,sim,H)\n",
        "  #a grega a H un valor resultado para devolver un diccionario con los valores\n",
        "  H.append(\"Resultado\")\n",
        "  print(H)\n",
        "  return {H[i]: M[i][-1] for i in range(len(H))}"
      ],
      "metadata": {
        "id": "n0QuovirFR57"
      },
      "execution_count": null,
      "outputs": []
    },
    {
      "cell_type": "code",
      "source": [
        "sim=['x1','x2','h1','a1','a2','h2']\n",
        "H=['a1','a2','h2']\n",
        "M=1e2\n",
        "K=[[3,1,0,1,0,0,3],\n",
        "   [4,3,-1,0,1,0,6],\n",
        "   [1,2,0,0,0,1,4],\n",
        "   [696,399,-100,0,0,0,900]]\n",
        "for i in K:\n",
        "  print(i)"
      ],
      "metadata": {
        "id": "3zAqOp7QERD1"
      },
      "execution_count": null,
      "outputs": []
    },
    {
      "cell_type": "code",
      "source": [
        "solve(K,sim,H)"
      ],
      "metadata": {
        "id": "JV-KKYnQcZ1m"
      },
      "execution_count": null,
      "outputs": []
    }
  ]
}