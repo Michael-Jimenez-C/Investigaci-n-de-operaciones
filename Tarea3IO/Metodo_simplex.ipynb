{
  "nbformat": 4,
  "nbformat_minor": 0,
  "metadata": {
    "colab": {
      "private_outputs": true,
      "provenance": [],
      "authorship_tag": "ABX9TyPRcvfWrjB9KSMFcBLyc2Vc",
      "include_colab_link": true
    },
    "kernelspec": {
      "name": "python3",
      "display_name": "Python 3"
    },
    "language_info": {
      "name": "python"
    }
  },
  "cells": [
    {
      "cell_type": "markdown",
      "metadata": {
        "id": "view-in-github",
        "colab_type": "text"
      },
      "source": [
        "<a href=\"https://colab.research.google.com/github/Michael-Jimenez-C/Investigaci-n-de-operaciones/blob/main/Tarea3IO/Metodo_simplex.ipynb\" target=\"_parent\"><img src=\"https://colab.research.google.com/assets/colab-badge.svg\" alt=\"Open In Colab\"/></a>"
      ]
    },
    {
      "cell_type": "code",
      "execution_count": null,
      "metadata": {
        "id": "IJMZB-yNHS_L"
      },
      "outputs": [],
      "source": [
        "import numpy as np"
      ]
    },
    {
      "cell_type": "code",
      "source": [
        "class MetodoSimplex:\n",
        "  def solve(M,sim,H=None):\n",
        "    if type(H)==type(None):\n",
        "      H=sim[len(sim)-len(M)+1:]\n",
        "    M=np.array(M,dtype=\"float64\")\n",
        "    ve=np.argmax(M[-1])\n",
        "    vs=np.argmin(M[:-1,-1]/M[:-1,ve])\n",
        "    H[vs]=sim[ve]\n",
        "    M[vs]=M[vs]/M[vs][ve]\n",
        "    \n",
        "    for i in range(len(M)):\n",
        "      if i!=vs:\n",
        "        M[i]=M[i]-M[vs]*M[i][ve]\n",
        "        \n",
        "    if len(M[-1][M[-1]>=1])>0:\n",
        "      return MetodoSimplex.solve(M,sim,H)\n",
        "    \n",
        "    H.append(\"Resultado\")\n",
        "    M[-1][-1]*=-1\n",
        "    return {H[i]: M[i][-1] for i in range(len(H))}\n",
        "  \n",
        "  def solve2(M,sim,H=None):\n",
        "    if type(H)==type(None):\n",
        "      H=sim[len(sim)-len(M)+1:]\n",
        "    M=np.array(M,dtype=\"float64\")\n",
        "    ve=np.argmin(M[-1])\n",
        "    vs=np.argmin(M[:-1,-1]/M[:-1,ve])\n",
        "    H[vs]=sim[ve]\n",
        "    M[vs]=M[vs]/M[vs][ve]\n",
        "    \n",
        "    for i in range(len(M)):\n",
        "      if i!=vs:\n",
        "        M[i]=M[i]-M[vs]*M[i][ve]\n",
        "    \n",
        "    print(M)\n",
        "    if len(M[-1][M[-1]<=-1])>0:\n",
        "      return MetodoSimplex.solve2(M,sim,H)\n",
        "    \n",
        "    H.append(\"Resultado\")\n",
        "    M[-1][-1]*=-1\n",
        "    return {H[i]: M[i][-1] for i in range(len(H))}\n"
      ],
      "metadata": {
        "id": "Xkq3xaa0UcM6"
      },
      "execution_count": null,
      "outputs": []
    },
    {
      "cell_type": "code",
      "source": [
        "sim=['x','y','t','u','v']\n",
        "M=[[2,1,1,0,0,180],\n",
        "  [1,2,0,1,0,160],\n",
        "  [1,1,0,0,1,100],\n",
        "  [4,6,0,0,0,0]]\n",
        "MetodoSimplex.solve(M,sim)"
      ],
      "metadata": {
        "id": "dncZaKrvd9xg"
      },
      "execution_count": null,
      "outputs": []
    },
    {
      "cell_type": "code",
      "source": [
        "sim=['x','y','t','u','v']\n",
        "M=[[3,2,1,0,0,2400],\n",
        "  [0,1,0,1,0,800],\n",
        "  [2,0,0,0,1,1200],\n",
        "  [5,2,0,0,0,0]]\n",
        "MetodoSimplex.solve(M,sim)"
      ],
      "metadata": {
        "id": "ZVy19cpjVkqB"
      },
      "execution_count": null,
      "outputs": []
    },
    {
      "cell_type": "code",
      "source": [
        "sim=['x','y','t','u','v']\n",
        "M=[[5,15,-1,0,0,50],\n",
        "  [20,5,0,-1,0,40],\n",
        "  [15,2,0,0,-1,60],\n",
        "  [4,2,0,0,0,0]]\n",
        "MetodoSimplex.solve2(M,sim)"
      ],
      "metadata": {
        "id": "f-tnLQYOWISA"
      },
      "execution_count": null,
      "outputs": []
    }
  ]
}