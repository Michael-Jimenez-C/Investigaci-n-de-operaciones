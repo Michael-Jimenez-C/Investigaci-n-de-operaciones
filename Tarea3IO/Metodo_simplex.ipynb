{
  "nbformat": 4,
  "nbformat_minor": 0,
  "metadata": {
    "colab": {
      "private_outputs": true,
      "provenance": [],
      "authorship_tag": "ABX9TyMne0HSQWsscCseeSLYKTs+",
      "include_colab_link": true
    },
    "kernelspec": {
      "name": "python3",
      "display_name": "Python 3"
    },
    "language_info": {
      "name": "python"
    }
  },
  "cells": [
    {
      "cell_type": "markdown",
      "metadata": {
        "id": "view-in-github",
        "colab_type": "text"
      },
      "source": [
        "<a href=\"https://colab.research.google.com/github/Michael-Jimenez-C/Investigaci-n-de-operaciones/blob/main/Tarea3IO/Metodo_simplex.ipynb\" target=\"_parent\"><img src=\"https://colab.research.google.com/assets/colab-badge.svg\" alt=\"Open In Colab\"/></a>"
      ]
    },
    {
      "cell_type": "code",
      "execution_count": null,
      "metadata": {
        "id": "IJMZB-yNHS_L"
      },
      "outputs": [],
      "source": [
        "import numpy as np\n",
        "import sympy as sp\n",
        "from IPython.display import Latex\n",
        "from IPython.display import display_latex\n",
        "sp.init_printing()"
      ]
    },
    {
      "cell_type": "code",
      "source": [
        "class MetodoSimplex:\n",
        "  #------------------------Método simplex base---------------------------\n",
        "  def solve(M,sim,H):\n",
        "    M=np.array(M,dtype=\"float64\")\n",
        "    #Selecciona el pivote\n",
        "    ve=np.argmax(M[-1,:-1])\n",
        "    vs=np.argmin([(i if i>0 else np.inf) for i in M[:-1,-1]/M[:-1,ve]])\n",
        "    #Hace el remplazo de la variable\n",
        "    H[vs]=sim[ve]\n",
        "    M[vs]=M[vs]/M[vs][ve]\n",
        "    #Hace ceros en la columna del pivote\n",
        "    for i in range(len(M)):\n",
        "      #Realiza el procedimiento solo si la fila no es la del pivote\n",
        "      if i!=vs:\n",
        "        M[i]=M[i]*M[vs][ve]-M[vs]*M[i][ve]\n",
        "    [print(i) for i in M.round(2).tolist()]\n",
        "    print(\"\\n\")\n",
        "    #Verifica si hay numeros positivos en la ultima fila exceptuando el resultado en p\n",
        "    if len(M[-1,:-1][M[-1,:-1]>0])>0:\n",
        "      #Si hay positivos mayores a cero llama a la funcion pero con la nueva matriz\n",
        "      return MetodoSimplex.solve(M,sim,H)\n",
        "    #a grega a H un valor resultado para devolver un diccionario con los valores\n",
        "    H.append(\"Resultado\")\n",
        "    M[-1][-1]=abs(M[-1][-1])\n",
        "    return {H[i]: M[i][-1] for i in range(len(H))}\n",
        "  #------------------------Método dual---------------------------\n",
        "  #Esta funcion permite hacer la division valida del método dual, la cual solo puede hacerse si son de signo opuesto\n",
        "  def __divsim(a,b):\n",
        "    k=[]\n",
        "    for i in range(len(a)):\n",
        "      if (a[i]>0 and b[i]<0) or (a[i]<0 and b[i]>0):\n",
        "        k.append(a[i]/b[i])\n",
        "      else:\n",
        "        #Como el algoritmo va a pedir el número más grande agrega un menos infinito para asegurar que nunca sea seleccionado\n",
        "        k.append(-np.inf)\n",
        "    return np.array(k)\n",
        "\n",
        "  def dual(M,sim,H):\n",
        "    M=np.array(M,dtype=\"float64\")\n",
        "    #Selecciona al pivote\n",
        "    vs =np.argmin([i for i in M[:-1,-1]])#Toma el minimo de un arreglo clon de la ultima columna de M\n",
        "    ve=np.argmax(MetodoSimplex.__divsim(M[-1,:-1],M[vs,:-1]))#Selecciona el máximo de la division realizada\n",
        "    #Hace el remplazo\n",
        "    H[vs]=sim[ve]\n",
        "    M[vs]=M[vs]/M[vs][ve]\n",
        "    #Hace el despeje\n",
        "    for i in range(len(M)):\n",
        "      if i!=vs:\n",
        "        M[i]=M[i]*M[vs][ve]-M[vs]*M[i][ve]\n",
        "    print(M,\"\\n\")\n",
        "    #Si hay numeros negativos en la ultima columna vuelve a ejecutar simplex pero con la nueva matriz\n",
        "    if len(M[:-1,-1][M[:-1,-1]<0])>0:\n",
        "      return MetodoSimplex.dual(M,sim,H)\n",
        "    H.append(\"Resultado\")\n",
        "    M[-1][-1]=abs(M[-1][-1])\n",
        "    return {H[i]: M[i][-1] for i in range(len(H))}"
      ],
      "metadata": {
        "id": "Xkq3xaa0UcM6"
      },
      "execution_count": null,
      "outputs": []
    },
    {
      "cell_type": "markdown",
      "source": [
        "#Max"
      ],
      "metadata": {
        "id": "X4P3db1NjHqx"
      }
    },
    {
      "cell_type": "markdown",
      "source": [
        "Maximizar: $z=4x_1+6x_2$\n",
        "\n",
        "$$SA\\begin{cases}\n",
        "2x_1+x_2\\leq 180\\\\\n",
        "x_1+2x_2\\leq 160\\\\\n",
        "x_1+x_2\\leq 100\n",
        "\\end{cases}$$\n",
        "\n",
        "Al convertirlo en igualdades\n",
        "$$SA\\begin{cases}\n",
        "2x_1+x_2+h_1= 180\\\\\n",
        "x_1+2x_2+h_2= 160\\\\\n",
        "x_1+x_2+h_3=100\n",
        "\\end{cases}$$"
      ],
      "metadata": {
        "id": "Uz9XhHx_7eJA"
      }
    },
    {
      "cell_type": "code",
      "source": [
        "sim=['x1','x2','h1','h2','h3']\n",
        "H=['h1','h2','h3']\n",
        "M=[[2,1,1,0,0,180],\n",
        "  [1,2,0,1,0,160],\n",
        "  [1,1,0,0,1,100],\n",
        "  [4,6,0,0,0,0]]\n",
        "MetodoSimplex.solve(M,sim,H)"
      ],
      "metadata": {
        "id": "dncZaKrvd9xg"
      },
      "execution_count": null,
      "outputs": []
    },
    {
      "cell_type": "markdown",
      "source": [
        "Maximizar: $z=200x_1+100x_2$\n",
        "$$SA\\begin{cases}\n",
        "5x_1+3x_2\\leq 105\\\\\n",
        "2x_1+4x_2\\leq 70\n",
        "\\end{cases}$$\n",
        "Al convertirlo a igualdades:\n",
        "$$SA\\begin{cases}\n",
        "5x_1+3x_2+h1=105\\\\\n",
        "2x_1+4x_2+h2=70\n",
        "\\end{cases}$$"
      ],
      "metadata": {
        "id": "tT-dOGwb_DYi"
      }
    },
    {
      "cell_type": "code",
      "source": [
        "sim=['x1','x2','h1','h2']\n",
        "H=['h1','h2']\n",
        "M=[[5,3,1,0,105],\n",
        "   [2,4,0,1,70],\n",
        "   [200,100,0,0,0]]\n",
        "MetodoSimplex.solve(M,sim,H)"
      ],
      "metadata": {
        "id": "lhRQuAx_ZnYg"
      },
      "execution_count": null,
      "outputs": []
    },
    {
      "cell_type": "markdown",
      "source": [
        "Maximizar: $z=5x_1+2x_2$\n",
        "$$SA\\begin{cases}\n",
        "3x_1+2x_2\\leq 2400\\\\\n",
        "x_2\\leq 800\\\\\n",
        "2x1\\leq 1200\n",
        "\\end{cases}$$\n",
        "Al convertirlo a igualdades:\n",
        "$$SA\\begin{cases}\n",
        "3x_1+2x_2+h1=2400\\\\\n",
        "x_2+h2= 800\\\\\n",
        "2x1+h3= 1200\n",
        "\\end{cases}$$"
      ],
      "metadata": {
        "id": "W4BycVUZCFFQ"
      }
    },
    {
      "cell_type": "code",
      "source": [
        "sim=['x1','x2','h1','h2','h3']\n",
        "H=['h1','h2','h3']\n",
        "M=[[3,2,1,0,0,2400],\n",
        "  [0,1,0,1,0,800],\n",
        "  [2,0,0,0,1,1200],\n",
        "  [5,2,0,0,0,0]]\n",
        "MetodoSimplex.solve(M,sim,H)"
      ],
      "metadata": {
        "id": "ZVy19cpjVkqB"
      },
      "execution_count": null,
      "outputs": []
    },
    {
      "cell_type": "markdown",
      "source": [
        "#Min"
      ],
      "metadata": {
        "id": "_CYsudpjmQl4"
      }
    },
    {
      "cell_type": "code",
      "source": [
        "sim=['x','y','t','u','v']\n",
        "H=['t','u','v']\n",
        "M=[[-5,-15,1,0,0,-50],\n",
        "    [-20,-5,0,1,0,-40],\n",
        "    [15,2,0,0,1,60],\n",
        "    [4,2,0,0,0,0]]\n",
        "MetodoSimplex.dual(M,sim,H)"
      ],
      "metadata": {
        "id": "f-tnLQYOWISA"
      },
      "execution_count": null,
      "outputs": []
    },
    {
      "cell_type": "code",
      "source": [
        "sim=['x1','x2','s1','s2','s3','s4']\n",
        "H=['s1','s2','s3','s4']\n",
        "M=[[-6,-2,1,0,0,0,-6],\n",
        "   [ 4, 3,0,1,0,0, 6],\n",
        "   [-4,-3,0,0,1,0,-6],\n",
        "   [1 , 2,0,0,0,1, 4],\n",
        "   [8 , 2,0,0,0,0, 0]]\n",
        "MetodoSimplex.dual(M,sim,H)"
      ],
      "metadata": {
        "id": "-Vp7kRPKAYdb"
      },
      "execution_count": null,
      "outputs": []
    },
    {
      "cell_type": "markdown",
      "source": [
        "#Método de la gran M"
      ],
      "metadata": {
        "id": "vkALAA3lG_pq"
      }
    },
    {
      "cell_type": "markdown",
      "source": [
        "Minimizar: $z=4x_1+x_2$\n",
        "$$SA\\begin{cases}\n",
        "3x_1+x_2=3\\\\\n",
        "4x_1+3x_2\\geq 6\\\\\n",
        "x_1+2x_2 \\leq 4\n",
        "\\end{cases}$$\n",
        "Al convertirlas a igualdades:\n",
        "$$SA\\begin{cases}\n",
        "3x_1+x_2+A_1=3\\\\\n",
        "4x_1+3x_2+A_2-H_1\\geq 6\\\\\n",
        "x_1+2x_2+H_2 \\leq 4\n",
        "\\end{cases}$$\n",
        "\n",
        "y la última fila es: $$z+x_1(7M-4)+x_2(4M-1)-H_1M=9M$$"
      ],
      "metadata": {
        "id": "Oy3d7Kr9Ed7I"
      }
    },
    {
      "cell_type": "code",
      "source": [
        "sim=['x1','x2','a1','a2','h1','h2']\n",
        "H=['a1','a2','h2']\n",
        "M=1e2\n",
        "K=[[3,1,1,0,0,0,3],\n",
        "   [4,3,0,1,-1,0,6],\n",
        "   [1,2,0,0,0,1,4],\n",
        "   [7*M-4,4*M-1,0,0,-M,0,9*M]]\n",
        "MetodoSimplex.solve(K,sim,H)"
      ],
      "metadata": {
        "id": "3zAqOp7QERD1"
      },
      "execution_count": null,
      "outputs": []
    },
    {
      "cell_type": "markdown",
      "source": [
        "Minimizar: $z=6x_1+5x_2$\n",
        "$$SA\\begin{cases}\n",
        "3x_1+x_2=3\\\\\n",
        "4x_1+3x_2\\geq 6\\\\\n",
        "x_1+2x_2 \\leq 4\n",
        "\\end{cases}$$\n",
        "Al convertirlas a igualdades:\n",
        "$$SA\\begin{cases}\n",
        "3x_1+x_2+A_1=3\\\\\n",
        "4x_1+3x_2+A_2-H_1\\geq 6\\\\\n",
        "x_1+2x_2+H_2 \\leq 4\n",
        "\\end{cases}$$\n",
        "\n",
        "y la última fila es: $$z+x_1(7M-6)+x_2(4M-5)-H_1M=9M$$"
      ],
      "metadata": {
        "id": "V1mXA3LvTFnR"
      }
    },
    {
      "cell_type": "code",
      "source": [
        "sim=['x1','x2','a1','a2','h1','h2']\n",
        "H=['a1','a2','h2']\n",
        "M=1e2\n",
        "K=[[3,1,1,0,0,0,3],\n",
        "   [4,3,0,1,-1,0,6],\n",
        "   [1,2,0,0,0,1,4],\n",
        "   [7*M-6,4*M-5,0,0,-M,0,9*M]]\n",
        "MetodoSimplex.solve(K,sim,H)"
      ],
      "metadata": {
        "id": "Ooca8_xxYDFq"
      },
      "execution_count": null,
      "outputs": []
    },
    {
      "cell_type": "markdown",
      "source": [
        "Minimizar: $z=4x_1+2x_2$\n",
        "\n",
        "$$SA\\begin{cases}\n",
        "    5x_1+15x_2\\geq 50\\\\\n",
        "    20x_1+5x_2\\geq 40\\\\\n",
        "    15x_1+2x_2\\leq 60\n",
        "\\end{cases}$$\n",
        "Al aplicar las propiedades:\n",
        "$$SA\\begin{cases}\n",
        "    5x_1+15x_2+A_1-H_1= 50\\\\\n",
        "    20x_1+5x_2+A_2-H_2= 40\\\\\n",
        "    15x_1+2x_2+H_3= 60\n",
        "\\end{cases}$$"
      ],
      "metadata": {
        "id": "po-H2Ivk2nQ8"
      }
    },
    {
      "cell_type": "code",
      "source": [
        "sim=['x1','x2','a1','a2','h1','h2','h3']\n",
        "H=['a1','a2','h3']\n",
        "M=1e2\n",
        "K=[[5,15,1,0,-1,0,0,50],\n",
        "   [20,5,0,1,0,-1,0,40],\n",
        "   [15,2,0,0,0,0,1,60],\n",
        "   [25*M-4,20*M-2,0,0,-M,-M,0,90*M]]\n",
        "MetodoSimplex.solve(K,sim,H)"
      ],
      "metadata": {
        "id": "MGwGnxyp2p01"
      },
      "execution_count": null,
      "outputs": []
    },
    {
      "cell_type": "markdown",
      "source": [
        "Minimizar: $z=60x_1+50x_2$\n",
        "$$SA\\begin{cases}\n",
        "    5x_1+3x_2\\geq60\\\\\n",
        "    2x_1+2x_2\\geq 30\\\\\n",
        "    7x_1+9x_2\\geq 126\n",
        "\\end{cases}$$\n",
        "Aplicando las propiedades:\n",
        "$$SA\\begin{cases}\n",
        "    5x_1+3x_2+A_1-H_1=60\\\\\n",
        "    2x_1+2x_2+A_2-H_2=30\\\\\n",
        "    7x_1+9x_2+A_3-H_3=126\n",
        "\\end{cases}$$\n",
        "$$z+x_1(14M-60)+x_2(14M-50)-H_1M-H_2M-H_3M=216M$$"
      ],
      "metadata": {
        "id": "I4XHUIOEZbOc"
      }
    },
    {
      "cell_type": "code",
      "source": [
        "sim=['x1','x2','a1','a2','a_3','h1','h2','h3']\n",
        "H=['a1','a2','a3']\n",
        "M=1e3\n",
        "K=[[5,3,1,0,0,-1,0,0,60],\n",
        "   [2,2,0,1,0,0,-1,0,30],\n",
        "   [7,9,0,0,1,0,0,-1,126],\n",
        "   [14*M-60,14*M-50,0,0,0,-M,-M,-M,216*M]]\n",
        "MetodoSimplex.solve(K,sim,H)"
      ],
      "metadata": {
        "id": "BYaM3QAWZgtZ"
      },
      "execution_count": null,
      "outputs": []
    },
    {
      "cell_type": "code",
      "source": [
        "class MetodoSimplex:\n",
        "  #------------------------Método simplex base---------------------------\n",
        "  def dividirfila(a,b):\n",
        "    return sp.Matrix([a[i]/b[i] for i in range(len(a))])\n",
        "  def mulfila(a,b):\n",
        "    return sp.Matrix([a[i]*b[i] for i in range(len(a))])\n",
        "  def solve(M,sim,H):\n",
        "    M=sp.Matrix(M)\n",
        "    #Selecciona el pivote\n",
        "    ve=np.argmax((M.subs(sp.symbols('M'),1e4))[-1,:-1])\n",
        "    vs=np.argmin([(i if i>0 else np.inf) for i in MetodoSimplex.dividirfila(M[:-1,-1],M[:-1,ve])])\n",
        "    #Hace el remplazo de la variable\n",
        "    H[vs]=sim[ve]\n",
        "    M[vs,:]=M[vs,:]/M[vs,ve]\n",
        "    #Hace ceros en la columna del pivote\n",
        "    for i in range(M.shape[0]):\n",
        "      #Realiza el procedimiento solo si la fila no es la del pivote\n",
        "      if i!=vs:\n",
        "        M[i,:]=M[i,:]*M[vs,ve]-M[vs,:]*M[i,ve]\n",
        "\n",
        "    print(\"\\n\\n\")\n",
        "    display_latex(Latex(sp.latex(M)))\n",
        "    print(\"\\n\\n\")\n",
        "    #Verifica si hay numeros positivos en la ultima fila exceptuando el resultado en p\n",
        "    if len(np.array((M.subs(sp.symbols('M'),1e4))[-1,:-1],dtype=\"float64\")[np.array((M.subs(sp.symbols('M'),1e4))[-1,:-1],dtype=\"float64\")>0])>0:\n",
        "      #Si hay positivos mayores a cero llama a la funcion pero con la nueva matriz\n",
        "      return MetodoSimplex.solve(M,sim,H)\n",
        "    #a grega a H un valor resultado para devolver un diccionario con los valores\n",
        "    H.append(\"Resultado\")\n",
        "    M[-1,-1]=abs(M[-1,-1])\n",
        "    return {H[i]: M[i,-1] for i in range(len(H))}"
      ],
      "metadata": {
        "id": "iBqM-DjxlFCQ"
      },
      "execution_count": null,
      "outputs": []
    },
    {
      "cell_type": "code",
      "source": [
        "sim='x_1 x_2 h_1 h_2 A_1 A_2'.split(\" \")\n",
        "H='A_1 A_2 h_2'.split(' ')\n",
        "\n",
        "p=sp.symbols('p')\n",
        "M=sp.symbols('M')\n",
        "K=[[3,1,0,0,1,0,3],\n",
        "   [4,3,-1,0,0,1,6],\n",
        "   [1,2,0,1,0,0,4],\n",
        "   [7*M-8,4*M-2,-M,0,0,0,9*M]]\n",
        "\n",
        "display_latex(Latex(sp.latex(sp.Matrix(K))))\n",
        "MetodoSimplex.solve(K,sim,H)"
      ],
      "metadata": {
        "id": "QRkDx4R_hWv7"
      },
      "execution_count": null,
      "outputs": []
    }
  ]
}