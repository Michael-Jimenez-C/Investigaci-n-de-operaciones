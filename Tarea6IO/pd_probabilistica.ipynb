{
  "nbformat": 4,
  "nbformat_minor": 0,
  "metadata": {
    "colab": {
      "provenance": [],
      "authorship_tag": "ABX9TyOezftTi+876VfH/cyYT45y",
      "include_colab_link": true
    },
    "kernelspec": {
      "name": "python3",
      "display_name": "Python 3"
    },
    "language_info": {
      "name": "python"
    }
  },
  "cells": [
    {
      "cell_type": "markdown",
      "metadata": {
        "id": "view-in-github",
        "colab_type": "text"
      },
      "source": [
        "<a href=\"https://colab.research.google.com/github/Michael-Jimenez-C/Investigaci-n-de-operaciones/blob/main/Tarea6IO/pd_probabilistica.ipynb\" target=\"_parent\"><img src=\"https://colab.research.google.com/assets/colab-badge.svg\" alt=\"Open In Colab\"/></a>"
      ]
    },
    {
      "cell_type": "code",
      "execution_count": 1,
      "metadata": {
        "id": "WPI5v0RoA6RN"
      },
      "outputs": [],
      "source": [
        "import numpy as np\n",
        "def pProb1(etapas,k,penalizacion,penalizInv,pExito,r={}):\n",
        "  if etapas<1:\n",
        "    return r\n",
        "  K=lambda x: [(k if i>0 else 0) for i in x]\n",
        "  xn=np.array(range(0,20))\n",
        "  fn=(xn+K(xn)+pow(pExito,xn)*penalizacion+(1-pow(pExito,xn))*penalizInv)\n",
        "  r[str(xn[np.argmin(fn)])+\"E\"+str(etapas)]=min(fn)\n",
        "  return pProb1(etapas-1,k,r[str(xn[np.argmin(fn)])+\"E\"+str(etapas)],penalizInv,pExito,r)"
      ]
    },
    {
      "cell_type": "code",
      "source": [
        "pProb1(etapas=2,k=3,penalizacion=16,penalizInv=0,pExito=1/3)"
      ],
      "metadata": {
        "id": "4OLE5iKlcEeO",
        "outputId": "7bf2fe2b-809c-496c-c13b-338b07c3eca4",
        "colab": {
          "base_uri": "https://localhost:8080/"
        }
      },
      "execution_count": null,
      "outputs": [
        {
          "output_type": "execute_result",
          "data": {
            "text/plain": [
              "{'3E2': 6.592592592592593, '2E1': 5.732510288065844}"
            ]
          },
          "metadata": {},
          "execution_count": 2
        }
      ]
    },
    {
      "cell_type": "code",
      "source": [
        "def pProb2(etapas,objetivo,pExito,ci):\n",
        "  f=lambda s,x,f1,f2: pExito*f1+(1-pExito)*f2\n",
        "  r={}\n",
        "  for i in range(objetivo+1):\n",
        "    r[i]=(0,None)\n",
        "    if objetivo-i<=objetivo/2:\n",
        "      r[i]=(pExito,objetivo-i)\n",
        "    if i==objetivo:\n",
        "      r[i]=(1,0)\n",
        "  print(r)\n",
        "  for _ in range(etapas-2):\n",
        "    for s in range(objetivo):\n",
        "      k=0\n",
        "      for x in range(s+1):\n",
        "        k=np.maximum(k,f(s,x,0 if s+x not in r else r[s+x][0],0 if s-x not in r else r[s-x][0]))\n",
        "        if r[s][0]!=k:\n",
        "          r[s]=k,x\n",
        "    print(r)\n",
        "  return r[ci]"
      ],
      "metadata": {
        "id": "URYZP0Oaou4k"
      },
      "execution_count": 5,
      "outputs": []
    },
    {
      "cell_type": "code",
      "source": [
        "pProb2(3,100,1/2,75)"
      ],
      "metadata": {
        "id": "dn59v403Kk3J",
        "outputId": "b4c28eef-5255-4dbd-d91c-fbb4390c43ba",
        "colab": {
          "base_uri": "https://localhost:8080/"
        }
      },
      "execution_count": 11,
      "outputs": [
        {
          "output_type": "stream",
          "name": "stdout",
          "text": [
            "{0: (0, None), 1: (0, None), 2: (0, None), 3: (0, None), 4: (0, None), 5: (0, None), 6: (0, None), 7: (0, None), 8: (0, None), 9: (0, None), 10: (0, None), 11: (0, None), 12: (0, None), 13: (0, None), 14: (0, None), 15: (0, None), 16: (0, None), 17: (0, None), 18: (0, None), 19: (0, None), 20: (0, None), 21: (0, None), 22: (0, None), 23: (0, None), 24: (0, None), 25: (0, None), 26: (0, None), 27: (0, None), 28: (0, None), 29: (0, None), 30: (0, None), 31: (0, None), 32: (0, None), 33: (0, None), 34: (0, None), 35: (0, None), 36: (0, None), 37: (0, None), 38: (0, None), 39: (0, None), 40: (0, None), 41: (0, None), 42: (0, None), 43: (0, None), 44: (0, None), 45: (0, None), 46: (0, None), 47: (0, None), 48: (0, None), 49: (0, None), 50: (0.5, 50), 51: (0.5, 49), 52: (0.5, 48), 53: (0.5, 47), 54: (0.5, 46), 55: (0.5, 45), 56: (0.5, 44), 57: (0.5, 43), 58: (0.5, 42), 59: (0.5, 41), 60: (0.5, 40), 61: (0.5, 39), 62: (0.5, 38), 63: (0.5, 37), 64: (0.5, 36), 65: (0.5, 35), 66: (0.5, 34), 67: (0.5, 33), 68: (0.5, 32), 69: (0.5, 31), 70: (0.5, 30), 71: (0.5, 29), 72: (0.5, 28), 73: (0.5, 27), 74: (0.5, 26), 75: (0.5, 25), 76: (0.5, 24), 77: (0.5, 23), 78: (0.5, 22), 79: (0.5, 21), 80: (0.5, 20), 81: (0.5, 19), 82: (0.5, 18), 83: (0.5, 17), 84: (0.5, 16), 85: (0.5, 15), 86: (0.5, 14), 87: (0.5, 13), 88: (0.5, 12), 89: (0.5, 11), 90: (0.5, 10), 91: (0.5, 9), 92: (0.5, 8), 93: (0.5, 7), 94: (0.5, 6), 95: (0.5, 5), 96: (0.5, 4), 97: (0.5, 3), 98: (0.5, 2), 99: (0.5, 1), 100: (1, 0)}\n",
            "{0: (0, None), 1: (0, None), 2: (0, None), 3: (0, None), 4: (0, None), 5: (0, None), 6: (0, None), 7: (0, None), 8: (0, None), 9: (0, None), 10: (0, None), 11: (0, None), 12: (0, None), 13: (0, None), 14: (0, None), 15: (0, None), 16: (0, None), 17: (0, None), 18: (0, None), 19: (0, None), 20: (0, None), 21: (0, None), 22: (0, None), 23: (0, None), 24: (0, None), 25: (0.25, 25), 26: (0.25, 24), 27: (0.25, 23), 28: (0.25, 22), 29: (0.25, 21), 30: (0.25, 20), 31: (0.25, 19), 32: (0.25, 18), 33: (0.25, 17), 34: (0.25, 16), 35: (0.25, 15), 36: (0.25, 14), 37: (0.25, 13), 38: (0.375, 12), 39: (0.375, 11), 40: (0.375, 10), 41: (0.375, 9), 42: (0.375, 8), 43: (0.375, 7), 44: (0.4375, 6), 45: (0.4375, 5), 46: (0.4375, 4), 47: (0.46875, 3), 48: (0.46875, 2), 49: (0.484375, 1), 50: (0.5, 50), 51: (0.5, 49), 52: (0.5, 48), 53: (0.5, 47), 54: (0.5, 46), 55: (0.5, 45), 56: (0.5, 44), 57: (0.5, 43), 58: (0.5, 42), 59: (0.5, 41), 60: (0.5, 40), 61: (0.5, 39), 62: (0.5, 38), 63: (0.625, 37), 64: (0.625, 36), 65: (0.625, 35), 66: (0.625, 34), 67: (0.625, 33), 68: (0.625, 32), 69: (0.6875, 31), 70: (0.6875, 30), 71: (0.6875, 29), 72: (0.71875, 28), 73: (0.71875, 27), 74: (0.734375, 26), 75: (0.75, 25), 76: (0.75, 24), 77: (0.75, 23), 78: (0.75, 22), 79: (0.75, 21), 80: (0.75, 20), 81: (0.75, 19), 82: (0.8125, 18), 83: (0.8125, 17), 84: (0.8125, 16), 85: (0.84375, 15), 86: (0.859375, 14), 87: (0.8671875, 13), 88: (0.875, 12), 89: (0.875, 11), 90: (0.875, 10), 91: (0.90625, 9), 92: (0.90625, 8), 93: (0.9296875, 7), 94: (0.9375, 6), 95: (0.9375, 5), 96: (0.953125, 4), 97: (0.96875, 3), 98: (0.9765625, 2), 99: (0.98828125, 1), 100: (1, 0)}\n"
          ]
        },
        {
          "output_type": "execute_result",
          "data": {
            "text/plain": [
              "(0.75, 25)"
            ]
          },
          "metadata": {},
          "execution_count": 11
        }
      ]
    },
    {
      "cell_type": "code",
      "source": [
        "pProb2(5,5,2/3,2)"
      ],
      "metadata": {
        "id": "W4vb-Zqrr31L",
        "outputId": "86ebe358-4d50-4853-bf9b-1aa48b60f96a",
        "colab": {
          "base_uri": "https://localhost:8080/"
        }
      },
      "execution_count": 10,
      "outputs": [
        {
          "output_type": "stream",
          "name": "stdout",
          "text": [
            "{0: (0, None), 1: (0, None), 2: (0, None), 3: (0.6666666666666666, 2), 4: (0.6666666666666666, 1), 5: (1, 0)}\n",
            "{0: (0, None), 1: (0, None), 2: (0.4444444444444444, 1), 3: (0.6666666666666666, 2), 4: (0.8888888888888888, 1), 5: (1, 0)}\n",
            "{0: (0, None), 1: (0.2962962962962963, 1), 2: (0.5925925925925926, 2), 3: (0.7901234567901234, 1), 4: (0.9300411522633745, 1), 5: (1, 0)}\n",
            "{0: (0, None), 1: (0.3950617283950617, 1), 2: (0.6584362139917694, 1), 3: (0.8395061728395061, 1), 4: (0.9465020576131686, 1), 5: (1, 0)}\n"
          ]
        },
        {
          "output_type": "execute_result",
          "data": {
            "text/plain": [
              "(0.6584362139917694, 1)"
            ]
          },
          "metadata": {},
          "execution_count": 10
        }
      ]
    }
  ]
}