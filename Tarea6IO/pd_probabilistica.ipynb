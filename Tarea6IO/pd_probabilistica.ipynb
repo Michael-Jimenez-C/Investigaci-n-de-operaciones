{
  "nbformat": 4,
  "nbformat_minor": 0,
  "metadata": {
    "colab": {
      "provenance": [],
      "authorship_tag": "ABX9TyOEMp6hj58YWelp7BACqlku",
      "include_colab_link": true
    },
    "kernelspec": {
      "name": "python3",
      "display_name": "Python 3"
    },
    "language_info": {
      "name": "python"
    }
  },
  "cells": [
    {
      "cell_type": "markdown",
      "metadata": {
        "id": "view-in-github",
        "colab_type": "text"
      },
      "source": [
        "<a href=\"https://colab.research.google.com/github/Michael-Jimenez-C/Investigaci-n-de-operaciones/blob/main/Tarea6IO/pd_probabilistica.ipynb\" target=\"_parent\"><img src=\"https://colab.research.google.com/assets/colab-badge.svg\" alt=\"Open In Colab\"/></a>"
      ]
    },
    {
      "cell_type": "code",
      "execution_count": 54,
      "metadata": {
        "id": "WPI5v0RoA6RN"
      },
      "outputs": [],
      "source": [
        "import numpy as np\n",
        "def pProb1(etapas,k,penalizacion,penalizInv,pExito,r={}):\n",
        "  if etapas<1:\n",
        "    return r\n",
        "  K=lambda x: [(k if i>0 else 0) for i in x]\n",
        "  xn=np.array(range(0,20))\n",
        "  fn=(xn+K(xn)+pow(pExito,xn)*penalizacion+(1-pow(pExito,xn))*penalizInv)\n",
        "  r[str(xn[np.argmin(fn)])+\"E\"+str(etapas)]=min(fn)\n",
        "  return pProb1(etapas-1,k,r[str(xn[np.argmin(fn)])+\"E\"+str(etapas)],penalizInv,pExito,r)"
      ]
    },
    {
      "cell_type": "code",
      "source": [
        "pProb1(etapas=2,k=3,penalizacion=16,penalizInv=0,pExito=1/3)"
      ],
      "metadata": {
        "id": "4OLE5iKlcEeO",
        "outputId": "8f0fc367-2010-47ce-db7d-88b0e54fe56a",
        "colab": {
          "base_uri": "https://localhost:8080/"
        }
      },
      "execution_count": 55,
      "outputs": [
        {
          "output_type": "execute_result",
          "data": {
            "text/plain": [
              "{'3E2': 6.592592592592593, '2E1': 5.732510288065844}"
            ]
          },
          "metadata": {},
          "execution_count": 55
        }
      ]
    }
  ]
}