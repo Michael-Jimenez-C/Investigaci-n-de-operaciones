{
  "nbformat": 4,
  "nbformat_minor": 0,
  "metadata": {
    "colab": {
      "provenance": [],
      "authorship_tag": "ABX9TyOkgxjELLFEI5bE6XGq/9SC",
      "include_colab_link": true
    },
    "kernelspec": {
      "name": "python3",
      "display_name": "Python 3"
    },
    "language_info": {
      "name": "python"
    }
  },
  "cells": [
    {
      "cell_type": "markdown",
      "metadata": {
        "id": "view-in-github",
        "colab_type": "text"
      },
      "source": [
        "<a href=\"https://colab.research.google.com/github/Michael-Jimenez-C/Investigaci-n-de-operaciones/blob/main/Tarea6IO/pd_probabilistica.ipynb\" target=\"_parent\"><img src=\"https://colab.research.google.com/assets/colab-badge.svg\" alt=\"Open In Colab\"/></a>"
      ]
    },
    {
      "cell_type": "code",
      "execution_count": 8,
      "metadata": {
        "id": "WPI5v0RoA6RN",
        "outputId": "aa465074-cb9b-4ed6-8e58-d74146f74223",
        "colab": {
          "base_uri": "https://localhost:8080/"
        }
      },
      "outputs": [
        {
          "output_type": "execute_result",
          "data": {
            "text/plain": [
              "{'3.0E3': 8.0, '2.0E2': 7.0, '2.0E1': 6.75}"
            ]
          },
          "metadata": {},
          "execution_count": 8
        }
      ],
      "source": [
        "import numpy as np\n",
        "def pd(etapas,k,penalizacion,pe,r={}):\n",
        "  if etapas<1:\n",
        "    return r\n",
        "  x=round((1/np.log(1/2))*np.log(-1/(penalizacion*np.log(1/2))),0)\n",
        "  r[str(x)+\"E\"+str(etapas)]=x+k+pow(pe,x)*penalizacion\n",
        "  return pd(etapas-1,k,r[str(x)+\"E\"+str(etapas)],pe,r)\n",
        "\n",
        "pd(3,3,16,1/2)\n",
        "  "
      ]
    }
  ]
}