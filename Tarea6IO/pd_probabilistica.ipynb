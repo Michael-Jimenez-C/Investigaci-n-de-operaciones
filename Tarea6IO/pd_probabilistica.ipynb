{
  "nbformat": 4,
  "nbformat_minor": 0,
  "metadata": {
    "colab": {
      "provenance": [],
      "authorship_tag": "ABX9TyPo9XQvgrgdfL8bqUOX1orF",
      "include_colab_link": true
    },
    "kernelspec": {
      "name": "python3",
      "display_name": "Python 3"
    },
    "language_info": {
      "name": "python"
    }
  },
  "cells": [
    {
      "cell_type": "markdown",
      "metadata": {
        "id": "view-in-github",
        "colab_type": "text"
      },
      "source": [
        "<a href=\"https://colab.research.google.com/github/Michael-Jimenez-C/Investigaci-n-de-operaciones/blob/main/Tarea6IO/pd_probabilistica.ipynb\" target=\"_parent\"><img src=\"https://colab.research.google.com/assets/colab-badge.svg\" alt=\"Open In Colab\"/></a>"
      ]
    },
    {
      "cell_type": "code",
      "execution_count": 1,
      "metadata": {
        "id": "WPI5v0RoA6RN"
      },
      "outputs": [],
      "source": [
        "import numpy as np\n",
        "def pProb1(etapas,k,penalizacion,penalizInv,pExito,r={}):\n",
        "  if etapas<1:\n",
        "    return r\n",
        "  K=lambda x: [(k if i>0 else 0) for i in x]\n",
        "  xn=np.array(range(0,20))\n",
        "  fn=(xn+K(xn)+pow(pExito,xn)*penalizacion+(1-pow(pExito,xn))*penalizInv)\n",
        "  r[str(xn[np.argmin(fn)])+\"E\"+str(etapas)]=min(fn)\n",
        "  return pProb1(etapas-1,k,r[str(xn[np.argmin(fn)])+\"E\"+str(etapas)],penalizInv,pExito,r)"
      ]
    },
    {
      "cell_type": "code",
      "source": [
        "pProb1(etapas=2,k=3,penalizacion=16,penalizInv=0,pExito=1/3)"
      ],
      "metadata": {
        "id": "4OLE5iKlcEeO",
        "outputId": "7bf2fe2b-809c-496c-c13b-338b07c3eca4",
        "colab": {
          "base_uri": "https://localhost:8080/"
        }
      },
      "execution_count": 2,
      "outputs": [
        {
          "output_type": "execute_result",
          "data": {
            "text/plain": [
              "{'3E2': 6.592592592592593, '2E1': 5.732510288065844}"
            ]
          },
          "metadata": {},
          "execution_count": 2
        }
      ]
    },
    {
      "cell_type": "code",
      "source": [
        "def pProb2(etapas,objetivo,pExito,ci):\n",
        "  f=lambda s,x,f1,f2: pExito*f1+(1-pExito)*f2\n",
        "  r={}\n",
        "  for i in range(objetivo+1):\n",
        "    r[i]=(0,None)\n",
        "    if objetivo-i<=objetivo/2:\n",
        "      r[i]=(pExito,objetivo-i)\n",
        "    if i==objetivo:\n",
        "      r[i]=(1,0)\n",
        "  print(r)\n",
        "  for _ in range(etapas-1):\n",
        "    for s in range(objetivo):\n",
        "      k=0\n",
        "      for x in range(s+1):\n",
        "        k=np.maximum(k,f(s,x,0 if s+x not in r else r[s+x][0],0 if s-x not in r else r[s-x][0]))\n",
        "        if r[s][0]!=k:\n",
        "          r[s]=k,x\n",
        "    print(r)\n",
        "  return r[ci]"
      ],
      "metadata": {
        "id": "URYZP0Oaou4k"
      },
      "execution_count": 56,
      "outputs": []
    },
    {
      "cell_type": "code",
      "source": [
        "pProb2(3,10,1/3,7)"
      ],
      "metadata": {
        "id": "W4vb-Zqrr31L",
        "outputId": "f83f03c1-9c7c-4b2d-ddd4-52535bb921bf",
        "colab": {
          "base_uri": "https://localhost:8080/"
        }
      },
      "execution_count": 61,
      "outputs": [
        {
          "output_type": "stream",
          "name": "stdout",
          "text": [
            "{0: (0, None), 1: (0, None), 2: (0, None), 3: (0, None), 4: (0, None), 5: (0.3333333333333333, 5), 6: (0.3333333333333333, 4), 7: (0.3333333333333333, 3), 8: (0.3333333333333333, 2), 9: (0.3333333333333333, 1), 10: (1, 0)}\n",
            "{0: (0, None), 1: (0, None), 2: (0, None), 3: (0.1111111111111111, 2), 4: (0.18518518518518517, 1), 5: (0.33333333333333337, 0), 6: (0.33333333333333337, 0), 7: (0.4567901234567901, 3), 8: (0.5555555555555556, 2), 9: (0.7037037037037037, 1), 10: (1, 0)}\n",
            "{0: (0, None), 1: (0, None), 2: (0.06172839506172839, 2), 3: (0.11111111111111112, 0), 4: (0.1851851851851852, 1), 5: (0.33333333333333337, 0), 6: (0.37448559670781895, 1), 7: (0.45679012345679015, 2), 8: (0.5829903978052127, 2), 9: (0.7219935985368084, 1), 10: (1, 0)}\n"
          ]
        },
        {
          "output_type": "execute_result",
          "data": {
            "text/plain": [
              "(0.45679012345679015, 2)"
            ]
          },
          "metadata": {},
          "execution_count": 61
        }
      ]
    }
  ]
}