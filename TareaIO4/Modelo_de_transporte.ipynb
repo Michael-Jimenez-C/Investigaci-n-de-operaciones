{
  "nbformat": 4,
  "nbformat_minor": 0,
  "metadata": {
    "colab": {
      "provenance": [],
      "authorship_tag": "ABX9TyPXyjqxMdlLxiIuj4+UCw3R",
      "include_colab_link": true
    },
    "kernelspec": {
      "name": "python3",
      "display_name": "Python 3"
    },
    "language_info": {
      "name": "python"
    }
  },
  "cells": [
    {
      "cell_type": "markdown",
      "metadata": {
        "id": "view-in-github",
        "colab_type": "text"
      },
      "source": [
        "<a href=\"https://colab.research.google.com/github/Michael-Jimenez-C/Investigaci-n-de-operaciones/blob/main/TareaIO4/Modelo_de_transporte.ipynb\" target=\"_parent\"><img src=\"https://colab.research.google.com/assets/colab-badge.svg\" alt=\"Open In Colab\"/></a>"
      ]
    },
    {
      "cell_type": "code",
      "source": [
        "import numpy as np"
      ],
      "metadata": {
        "id": "AdtQDGiiseg1"
      },
      "execution_count": 1,
      "outputs": []
    },
    {
      "cell_type": "code",
      "source": [
        "class ModeloTransporte:\n",
        "  def asignar(Ma,oferta,demanda, i,j):\n",
        "    if oferta[i]==0 and demanda[i]==0:\n",
        "      return None\n",
        "    #Se encarga de asignar la oferta, revisa si se puede colocar la oferta disponible o si no coloca la demanda disponible\n",
        "    if oferta[i]<=demanda[j]: \n",
        "      Ma[i][j]=oferta[i]\n",
        "    else:\n",
        "    #Elimina la demanda y oferta de sus vectores\n",
        "      Ma[i][j]=demanda[j]\n",
        "    oferta[i]-=Ma[i][j]\n",
        "    demanda[j]-=Ma[i][j]\n",
        "\n",
        "  def eliminar(K,oferta,demanda):\n",
        "    for i in range(len(oferta)):\n",
        "      if(oferta[i]==0):\n",
        "        K[i,:]=np.ones(len(K[i,:]))*1e5\n",
        "    for i in range(len(demanda)):\n",
        "      if(demanda[i]==0):\n",
        "        K[:,i]=np.ones(len(K[:,i]))*1e5\n",
        "\n",
        "  def calcular(C,M):#La suma de la diagonal de la matriz de resultados y la matriz de costos es igual a calcular el costo\n",
        "    S=np.array(C).T@np.array(M)\n",
        "    sol=sum([S[i][i] for i in range(len(S))])\n",
        "    return sol\n",
        "\n",
        "\n",
        "  def solNO(Ma,oferta,demanda,i=0,j=0):\n",
        "    #Solucion noroeste\n",
        "    #Asigna un valor a la posicion i j\n",
        "    ModeloTransporte.asignar(Ma,oferta,demanda,i,j)\n",
        "\n",
        "    #si la oferta o la demanda no es igual a cero despues de la asignacion asigna a la siguiente casilla\n",
        "    if oferta[i]!=0:\n",
        "      return ModeloTransporte.solNO(Ma,oferta,demanda,i,j+1)\n",
        "    elif demanda[j]!=0:\n",
        "      return ModeloTransporte.solNO(Ma,oferta,demanda,i+1,j)\n",
        "    #Si la oferta y la demanda son cero y ademas la suma de vectores demanda y oferta es igual a cero, entonces se terminó el ejercicio, si no pasa la la submatriz del siguiente paso\n",
        "    if oferta[i]==0 and demanda[j]==0 and sum(demanda)+sum(oferta)!=0:\n",
        "      return ModeloTransporte.solNO(Ma,oferta,demanda,i+1,j+1)\n",
        "    \n",
        "    return Ma,oferta,demanda\n",
        "\n",
        "\n",
        "  def norOeste(C,oferta,demanda):\n",
        "    #Construye la matriz de resultados\n",
        "    M=[[0 for i in C[0]] for i in C]\n",
        "    ModeloTransporte.solNO(M,oferta,demanda)\n",
        "    return M,ModeloTransporte.calcular(C,M)\n",
        "    \n",
        "  def minimoCosto(C,oferta,demanda,M=None,K=None):\n",
        "    #Hace una copia de la matriz de costos\n",
        "    if M==None:\n",
        "      K=np.array(C)\n",
        "      M=[[0 for i in C[0]] for i in K]\n",
        "    #Recorre las columnas de la matriz, selecciona el minimo y le asigna un valor\n",
        "    for i in range(len(C[0])):\n",
        "      ModeloTransporte.asignar(M,oferta,demanda,np.argmin(K.T[i]),i)\n",
        "    \n",
        "    ModeloTransporte.eliminar(K,oferta,demanda)\n",
        "    \n",
        "    if sum(demanda)+sum(oferta)!=0:\n",
        "      ModeloTransporte.minimoCosto(C,oferta,demanda,M,K)\n",
        "    \n",
        "    return M,ModeloTransporte.calcular(C,M)\n",
        "    \n",
        "\n",
        "  def vogel(C,oferta,demanda,M=None,K=None):\n",
        "    if M==None:\n",
        "      M=[[0 for i in C[0]] for i in C]\n",
        "      K=np.array(C)\n",
        "    pf=[abs(np.sort(K[:,i])[0]-np.sort(K[:,i])[1]) for i in range(len(demanda))]\n",
        "    pc=[abs(np.sort(K[i,:])[0]-np.sort(K[i,:])[1]) for i in range(len(oferta))]\n",
        "    if np.max(pf)>np.max(pc):\n",
        "      x,y=np.argmin(K[:,np.argmax(pf)]),np.argmax(pf)\n",
        "    elif np.max(pf)<np.max(pc):\n",
        "      x,y=np.argmax(pc),np.argmin(K[np.argmax(pc),:])\n",
        "    else:\n",
        "      x,y=np.argmax(pc),np.argmax(pf)\n",
        "    ModeloTransporte.asignar(M,oferta,demanda,x,y)\n",
        "    ModeloTransporte.eliminar(K,oferta,demanda)\n",
        "\n",
        "    if np.max(pf)>np.max(pc):\n",
        "      while demanda[y]!=0:\n",
        "        x=np.argmin(K[:,np.argmax(pf)])\n",
        "        ModeloTransporte.asignar(M,oferta,demanda,x,y)\n",
        "        ModeloTransporte.eliminar(K,oferta,demanda)\n",
        "    else:\n",
        "      while oferta[x]!=0:\n",
        "        y=np.argmin(K[np.argmax(pc),:])\n",
        "        ModeloTransporte.asignar(M,oferta,demanda,x,y)\n",
        "        ModeloTransporte.eliminar(K,oferta,demanda)\n",
        "    if sum(demanda)+sum(oferta)!=0:\n",
        "      ModeloTransporte.vogel(C,oferta,demanda,M,K)\n",
        "    return M,ModeloTransporte.calcular(C,M)\n",
        "\n",
        "  def solve(C,oferta,demanda):\n",
        "    _,s1=ModeloTransporte.norOeste(np.array(C),np.array(oferta),np.array(demanda))\n",
        "    _,s2=ModeloTransporte.minimoCosto(np.array(C),np.array(oferta),np.array(demanda))\n",
        "    _,s3=ModeloTransporte.vogel(np.array(C),np.array(oferta),np.array(demanda))\n",
        "    return np.min([s1,s2,s3])\n",
        "  "
      ],
      "metadata": {
        "id": "PS8SZcdYg4Gr"
      },
      "execution_count": 69,
      "outputs": []
    },
    {
      "cell_type": "code",
      "source": [
        "C=[[10,2,20,11],\n",
        "   [12,7,9,20],\n",
        "   [4,14,16,18]]\n",
        "oferta=[15,25,10]\n",
        "demanda=[5,15,15,15]\n",
        "ModeloTransporte.solve(C,oferta,demanda)"
      ],
      "metadata": {
        "colab": {
          "base_uri": "https://localhost:8080/"
        },
        "id": "mfWAPu_TgV5d",
        "outputId": "221a7a40-c57c-4be4-8f88-b47691ee251c"
      },
      "execution_count": 70,
      "outputs": [
        {
          "output_type": "execute_result",
          "data": {
            "text/plain": [
              "460"
            ]
          },
          "metadata": {},
          "execution_count": 70
        }
      ]
    },
    {
      "cell_type": "code",
      "source": [],
      "metadata": {
        "id": "xTlayNUV8Sl-"
      },
      "execution_count": null,
      "outputs": []
    }
  ]
}