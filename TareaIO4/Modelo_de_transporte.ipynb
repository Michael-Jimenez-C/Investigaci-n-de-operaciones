{
  "nbformat": 4,
  "nbformat_minor": 0,
  "metadata": {
    "colab": {
      "provenance": [],
      "authorship_tag": "ABX9TyOEMnbwh3i+RlzoxUcWIs3v",
      "include_colab_link": true
    },
    "kernelspec": {
      "name": "python3",
      "display_name": "Python 3"
    },
    "language_info": {
      "name": "python"
    }
  },
  "cells": [
    {
      "cell_type": "markdown",
      "metadata": {
        "id": "view-in-github",
        "colab_type": "text"
      },
      "source": [
        "<a href=\"https://colab.research.google.com/github/Michael-Jimenez-C/Investigaci-n-de-operaciones/blob/main/TareaIO4/Modelo_de_transporte.ipynb\" target=\"_parent\"><img src=\"https://colab.research.google.com/assets/colab-badge.svg\" alt=\"Open In Colab\"/></a>"
      ]
    },
    {
      "cell_type": "code",
      "source": [
        "import numpy as np"
      ],
      "metadata": {
        "id": "AdtQDGiiseg1"
      },
      "execution_count": 71,
      "outputs": []
    },
    {
      "cell_type": "code",
      "source": [
        "class ModeloTransporte:\n",
        "  def asignar(Ma,oferta,demanda, i,j):\n",
        "    if oferta[i]==0 and demanda[i]==0:\n",
        "      return None\n",
        "    #Se encarga de asignar la oferta, revisa si se puede colocar la oferta disponible o si no coloca la demanda disponible\n",
        "    if oferta[i]<=demanda[j]: \n",
        "      Ma[i][j]=oferta[i]\n",
        "    else:\n",
        "    #Elimina la demanda y oferta de sus vectores\n",
        "      Ma[i][j]=demanda[j]\n",
        "    oferta[i]-=Ma[i][j]\n",
        "    demanda[j]-=Ma[i][j]\n",
        "\n",
        "  def eliminar(K,oferta,demanda):\n",
        "    for i in range(len(oferta)):\n",
        "      if(oferta[i]==0):\n",
        "        K[i,:]=np.ones(len(K[i,:]))*1e5\n",
        "    for i in range(len(demanda)):\n",
        "      if(demanda[i]==0):\n",
        "        K[:,i]=np.ones(len(K[:,i]))*1e5\n",
        "\n",
        "  def calcular(C,M):#La suma de la diagonal de la matriz de resultados y la matriz de costos es igual a calcular el costo\n",
        "    S=np.array(C).T@np.array(M)\n",
        "    sol=sum([S[i][i] for i in range(len(S))])\n",
        "    return sol\n",
        "\n",
        "\n",
        "  def solNO(Ma,oferta,demanda,i=0,j=0):\n",
        "    #Solucion noroeste\n",
        "    #Asigna un valor a la posicion i j\n",
        "    ModeloTransporte.asignar(Ma,oferta,demanda,i,j)\n",
        "\n",
        "    #si la oferta o la demanda no es igual a cero despues de la asignacion asigna a la siguiente casilla\n",
        "    if oferta[i]!=0:\n",
        "      return ModeloTransporte.solNO(Ma,oferta,demanda,i,j+1)\n",
        "    elif demanda[j]!=0:\n",
        "      return ModeloTransporte.solNO(Ma,oferta,demanda,i+1,j)\n",
        "    #Si la oferta y la demanda son cero y ademas la suma de vectores demanda y oferta es igual a cero, entonces se terminó el ejercicio, si no pasa la la submatriz del siguiente paso\n",
        "    if oferta[i]==0 and demanda[j]==0 and sum(demanda)+sum(oferta)!=0:\n",
        "      return ModeloTransporte.solNO(Ma,oferta,demanda,i+1,j+1)\n",
        "    \n",
        "    return Ma,oferta,demanda\n",
        "\n",
        "\n",
        "  def norOeste(C,oferta,demanda):\n",
        "    #Construye la matriz de resultados\n",
        "    M=[[0 for i in C[0]] for i in C]\n",
        "    ModeloTransporte.solNO(M,oferta,demanda)\n",
        "    return M,ModeloTransporte.calcular(C,M)\n",
        "    \n",
        "  def minimoCosto(C,oferta,demanda,M=None,K=None):\n",
        "    #Hace una copia de la matriz de costos\n",
        "    if M==None:\n",
        "      K=np.array(C)\n",
        "      M=[[0 for i in C[0]] for i in K]\n",
        "    #Recorre las columnas de la matriz, selecciona el minimo y le asigna un valor\n",
        "    for i in range(len(C[0])):\n",
        "      ModeloTransporte.asignar(M,oferta,demanda,np.argmin(K.T[i]),i)\n",
        "    \n",
        "    ModeloTransporte.eliminar(K,oferta,demanda)\n",
        "    \n",
        "    if sum(demanda)+sum(oferta)!=0:\n",
        "      ModeloTransporte.minimoCosto(C,oferta,demanda,M,K)\n",
        "    \n",
        "    return M,ModeloTransporte.calcular(C,M)\n",
        "    \n",
        "\n",
        "  def vogel(C,oferta,demanda):\n",
        "    M=[[0 for i in C[0]] for i in C]\n",
        "    K=np.array(C)\n",
        "    pf=[abs(np.sort(K[:,i])[0]-np.sort(K[:,i])[1]) for i in range(len(demanda))]\n",
        "    pc=[abs(np.sort(K[i,:])[0]-np.sort(K[i,:])[1]) for i in range(len(oferta))]\n",
        "    \n",
        "    if np.max(pf)>np.max(pc):\n",
        "      x,y=np.argmin(K[:,np.argmax(pf)]),np.argmax(pf)\n",
        "    elif np.max(pf)<np.max(pc):\n",
        "      x,y=np.argmax(pc),np.argmin(K[np.argmax(pc),:])\n",
        "    #else:\n",
        "      #ModeloTransporte.asignar(M,oferta,demanda,np.argmin(K[:,np.argmax(pf)]),np.argmax(pf))\n",
        "    \n",
        "    ModeloTransporte.asignar(M,oferta,demanda,x,y)\n",
        "    ModeloTransporte.eliminar(K,oferta,demanda)\n",
        "    while demanda[x]!=0:\n",
        "      x,y=np.argmax(pc),np.argmin(K[np.argmax(pc),:])\n",
        "      ModeloTransporte.asignar(M,oferta,demanda,x,y)\n",
        "      ModeloTransporte.eliminar(K,oferta,demanda)\n",
        "    while oferta[y]!=0:\n",
        "      x,y=np.argmin(K[:,np.argmax(pf)]),np.argmax(pf)\n",
        "      ModeloTransporte.asignar(M,oferta,demanda,x,y)\n",
        "      ModeloTransporte.eliminar(K,oferta,demanda)\n",
        "    print(pf)\n",
        "    print(pc)\n",
        "    print(M)\n",
        "  "
      ],
      "metadata": {
        "id": "PS8SZcdYg4Gr"
      },
      "execution_count": 72,
      "outputs": []
    },
    {
      "cell_type": "code",
      "source": [
        "C=[[10,2,20,11],[12,7,9,20],[4,14,16,18]]\n",
        "oferta=[15,25,10]\n",
        "demanda=[5,15,15,15]\n",
        "ModeloTransporte.norOeste(C,oferta,demanda)"
      ],
      "metadata": {
        "colab": {
          "base_uri": "https://localhost:8080/"
        },
        "id": "PSFeai4qdlbT",
        "outputId": "6b4fb244-fd3d-4791-8667-9a9a2aa7b933"
      },
      "execution_count": 69,
      "outputs": [
        {
          "output_type": "execute_result",
          "data": {
            "text/plain": [
              "([[5, 10, 0, 0], [0, 5, 15, 5], [0, 0, 0, 10]], 520)"
            ]
          },
          "metadata": {},
          "execution_count": 69
        }
      ]
    },
    {
      "cell_type": "code",
      "source": [
        "C=[[10,2,20,11],[12,7,9,20],[4,14,16,18]]\n",
        "oferta=[15,25,10]\n",
        "demanda=[5,15,15,15]\n",
        "ModeloTransporte.minimoCosto(C,oferta,demanda)"
      ],
      "metadata": {
        "colab": {
          "base_uri": "https://localhost:8080/"
        },
        "id": "4Fefg08hFbfM",
        "outputId": "1556ac60-36d1-4363-dc46-bf4fce6853c9"
      },
      "execution_count": 55,
      "outputs": [
        {
          "output_type": "execute_result",
          "data": {
            "text/plain": [
              "([[0, 15, 0, 0], [0, 0, 15, 10], [5, 0, 0, 5]], 475)"
            ]
          },
          "metadata": {},
          "execution_count": 55
        }
      ]
    },
    {
      "cell_type": "code",
      "source": [
        "C=[[10,2,20,11],[12,7,9,20],[4,14,16,18]]\n",
        "oferta=[15,25,10]\n",
        "demanda=[5,15,15,15]\n",
        "ModeloTransporte.vogel(C,oferta,demanda)"
      ],
      "metadata": {
        "colab": {
          "base_uri": "https://localhost:8080/"
        },
        "id": "mfWAPu_TgV5d",
        "outputId": "6c37571c-51fe-42f8-fbf7-4e01e8781624"
      },
      "execution_count": 73,
      "outputs": [
        {
          "output_type": "stream",
          "name": "stdout",
          "text": [
            "[6, 5, 7, 7]\n",
            "[8, 2, 10]\n",
            "[[0, 0, 0, 0], [0, 0, 0, 0], [5, 0, 0, 0]]\n"
          ]
        }
      ]
    }
  ]
}