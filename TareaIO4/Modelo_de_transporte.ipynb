{
  "nbformat": 4,
  "nbformat_minor": 0,
  "metadata": {
    "colab": {
      "provenance": [],
      "authorship_tag": "ABX9TyNWPH5Fk2VYwCSAz6gVOdS1",
      "include_colab_link": true
    },
    "kernelspec": {
      "name": "python3",
      "display_name": "Python 3"
    },
    "language_info": {
      "name": "python"
    }
  },
  "cells": [
    {
      "cell_type": "markdown",
      "metadata": {
        "id": "view-in-github",
        "colab_type": "text"
      },
      "source": [
        "<a href=\"https://colab.research.google.com/github/Michael-Jimenez-C/Investigaci-n-de-operaciones/blob/main/TareaIO4/Modelo_de_transporte.ipynb\" target=\"_parent\"><img src=\"https://colab.research.google.com/assets/colab-badge.svg\" alt=\"Open In Colab\"/></a>"
      ]
    },
    {
      "cell_type": "code",
      "source": [
        "import numpy as np"
      ],
      "metadata": {
        "id": "AdtQDGiiseg1"
      },
      "execution_count": 1,
      "outputs": []
    },
    {
      "cell_type": "code",
      "source": [
        "class ModeloTransporte:\n",
        "  def asignar(Ma,oferta,demanda, i,j):\n",
        "    if oferta[i]==0 and demanda[i]==0:\n",
        "      return None\n",
        "    #Se encarga de asignar la oferta, revisa si se puede colocar la oferta disponible o si no coloca la demanda disponible\n",
        "    if oferta[i]<=demanda[j]: \n",
        "      Ma[i][j]=oferta[i]\n",
        "    else:\n",
        "    #Elimina la demanda columna oferta de sus vectores\n",
        "      Ma[i][j]=demanda[j]\n",
        "    oferta[i]-=Ma[i][j]\n",
        "    demanda[j]-=Ma[i][j]\n",
        "\n",
        "  def eliminar(K,oferta,demanda):\n",
        "    for i in range(len(oferta)):\n",
        "      if(oferta[i]==0):\n",
        "        K[i,:]=np.ones(len(K[i,:]))*1e5\n",
        "    for i in range(len(demanda)):\n",
        "      if(demanda[i]==0):\n",
        "        K[:,i]=np.ones(len(K[:,i]))*1e5\n",
        "\n",
        "  def calcular(C,M):#La suma de la diagonal de la matriz de resultados columna la matriz de costos es igual a calcular el costo\n",
        "    S=np.array(C).T@np.array(M)\n",
        "    sol=sum([S[i][i] for i in range(len(S))])\n",
        "    return sol\n",
        "\n",
        "  def norOeste(C,oferta,demanda):\n",
        "    #Construye la matriz de resultados\n",
        "    M=[[0 for i in C[0]] for i in C]\n",
        "    for i in range(len(C)):\n",
        "      for j in range(len(C[0])):\n",
        "        ModeloTransporte.asignar(M,oferta,demanda,i,j)\n",
        "    return M,ModeloTransporte.calcular(C,M)\n",
        "    \n",
        "  def minimoCosto(C,oferta,demanda,M=None,K=None):\n",
        "    #Hace una copia de la matriz de costos\n",
        "    if M==None:\n",
        "      K=np.array(C)\n",
        "      M=[[0 for i in C[0]] for i in K]\n",
        "    \n",
        "    minimos=[np.min(i) for i in K]\n",
        "    fila=np.argmin(minimos)\n",
        "    columna=[np.argmin(i) for i in K][fila]\n",
        "\n",
        "    ModeloTransporte.asignar(M,oferta,demanda,fila,columna)\n",
        "    ModeloTransporte.eliminar(K,oferta,demanda)\n",
        "\n",
        "    if sum(demanda)+sum(oferta)!=0:\n",
        "      ModeloTransporte.minimoCosto(C,oferta,demanda,M,K)\n",
        "    \n",
        "    return M,ModeloTransporte.calcular(C,M)\n",
        "    \n",
        "\n",
        "  def vogel(C,oferta,demanda,M=None,K=None):\n",
        "    if M==None:\n",
        "      M=[[0 for i in C[0]] for i in C]\n",
        "      K=np.array(C)\n",
        "    pf=[abs(np.sort(K[:,i])[0]-np.sort(K[:,i])[1]) for i in range(len(demanda))]\n",
        "    pc=[abs(np.sort(K[i,:])[0]-np.sort(K[i,:])[1]) for i in range(len(oferta))]\n",
        "    if np.max(pf)>np.max(pc):\n",
        "      fila,columna=np.argmin(K[:,np.argmax(pf)]),np.argmax(pf)\n",
        "    elif np.max(pf)<=np.max(pc):\n",
        "      fila,columna=np.argmax(pc),np.argmin(K[np.argmax(pc),:])\n",
        "\n",
        "    ModeloTransporte.asignar(M,oferta,demanda,fila,columna)\n",
        "    ModeloTransporte.eliminar(K,oferta,demanda)\n",
        "    if sum(demanda)+sum(oferta)!=0:\n",
        "      ModeloTransporte.vogel(C,oferta,demanda,M,K)\n",
        "    return M,ModeloTransporte.calcular(C,M)\n",
        "\n",
        "  def solve(C,oferta,demanda):\n",
        "    _,s1=ModeloTransporte.norOeste(np.array(C),np.array(oferta),np.array(demanda))\n",
        "    _,s2=ModeloTransporte.minimoCosto(np.array(C),np.array(oferta),np.array(demanda))\n",
        "    _,s3=ModeloTransporte.vogel(np.array(C),np.array(oferta),np.array(demanda))\n",
        "    return np.min([s1,s2,s3])\n",
        "  "
      ],
      "metadata": {
        "id": "3MkAMjP9LR3R"
      },
      "execution_count": 90,
      "outputs": []
    },
    {
      "cell_type": "code",
      "source": [
        "C=[[10,2,20,11],\n",
        "   [12,7,9,20],\n",
        "   [4,14,16,18]]\n",
        "oferta=[15,25,10]\n",
        "demanda=[5,15,15,15]\n",
        "ModeloTransporte.solve(C,oferta,demanda)"
      ],
      "metadata": {
        "colab": {
          "base_uri": "https://localhost:8080/"
        },
        "id": "mfWAPu_TgV5d",
        "outputId": "455c56ad-0003-49ce-facc-84316652c2b0"
      },
      "execution_count": 91,
      "outputs": [
        {
          "output_type": "execute_result",
          "data": {
            "text/plain": [
              "475"
            ]
          },
          "metadata": {},
          "execution_count": 91
        }
      ]
    },
    {
      "cell_type": "code",
      "source": [
        "C=[[10,2,20,11],\n",
        "   [12,7,9,20],\n",
        "   [4,14,16,18]]\n",
        "oferta=[15,25,10]\n",
        "demanda=[5,15,15,15]\n",
        "ModeloTransporte.vogel(C,oferta,demanda)"
      ],
      "metadata": {
        "colab": {
          "base_uri": "https://localhost:8080/"
        },
        "id": "GJAypoorM8YU",
        "outputId": "208dafa1-4888-40e0-a9e3-04a35af7671b"
      },
      "execution_count": 94,
      "outputs": [
        {
          "output_type": "execute_result",
          "data": {
            "text/plain": [
              "([[0, 15, 0, 0], [0, 0, 15, 10], [5, 0, 0, 5]], 475)"
            ]
          },
          "metadata": {},
          "execution_count": 94
        }
      ]
    }
  ]
}