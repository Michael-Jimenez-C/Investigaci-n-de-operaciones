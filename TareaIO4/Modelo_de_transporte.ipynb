{
  "nbformat": 4,
  "nbformat_minor": 0,
  "metadata": {
    "colab": {
      "provenance": [],
      "authorship_tag": "ABX9TyPwLGw7VYjOBlVmpwGWg/6L",
      "include_colab_link": true
    },
    "kernelspec": {
      "name": "python3",
      "display_name": "Python 3"
    },
    "language_info": {
      "name": "python"
    }
  },
  "cells": [
    {
      "cell_type": "markdown",
      "metadata": {
        "id": "view-in-github",
        "colab_type": "text"
      },
      "source": [
        "<a href=\"https://colab.research.google.com/github/Michael-Jimenez-C/Investigaci-n-de-operaciones/blob/main/TareaIO4/Modelo_de_transporte.ipynb\" target=\"_parent\"><img src=\"https://colab.research.google.com/assets/colab-badge.svg\" alt=\"Open In Colab\"/></a>"
      ]
    },
    {
      "cell_type": "code",
      "source": [
        "import numpy as np\n",
        "from IPython.display import Latex, display_latex"
      ],
      "metadata": {
        "id": "AdtQDGiiseg1"
      },
      "execution_count": 2,
      "outputs": []
    },
    {
      "cell_type": "code",
      "source": [
        "def latex(matriz):\n",
        "  cad=r\"\\left[\\begin{matrix}\"\n",
        "  for i in matriz:\n",
        "    for j in i:\n",
        "      cad+=str(j)+r\"&\"\n",
        "    cad=cad[:-1]+r\"\\\\\"\n",
        "  cad=cad[:-2]\n",
        "  return cad+r\"\\end{matrix}\\right]\"\n",
        "def mostrar(matriz):\n",
        "  display_latex(Latex(latex(matriz)))"
      ],
      "metadata": {
        "id": "k6dMs_RjeTmP"
      },
      "execution_count": 38,
      "outputs": []
    },
    {
      "cell_type": "code",
      "source": [
        "class ModeloTransporte:\n",
        "  def asignar(Ma,oferta,demanda, i,j):\n",
        "    if oferta[i]==0 and demanda[i]==0:\n",
        "      return None\n",
        "    #Se encarga de asignar la oferta, revisa si se puede colocar la oferta disponible o si no coloca la demanda disponible\n",
        "    if oferta[i]<=demanda[j]: \n",
        "      Ma[i][j]=oferta[i]\n",
        "    else:\n",
        "    #Elimina la demanda columna oferta de sus vectores\n",
        "      Ma[i][j]=demanda[j]\n",
        "    #resta la oferta\n",
        "    oferta[i]-=Ma[i][j]\n",
        "    demanda[j]-=Ma[i][j]\n",
        "\n",
        "  def eliminar(K,oferta,demanda):\n",
        "    #se encarga de remplazar por un número muy alto los valores que ya no se puedan tomar de la matriz\n",
        "    for i in range(len(oferta)):\n",
        "      if(oferta[i]==0):\n",
        "        #Asigna 'M' a toda la columna\n",
        "        K[i,:]=np.ones(len(K[i,:]))*1e5\n",
        "    for i in range(len(demanda)):\n",
        "      if(demanda[i]==0):\n",
        "        #Asigna 'M' a toda la fila\n",
        "        K[:,i]=np.ones(len(K[:,i]))*1e5\n",
        "\n",
        "  def calcular(C,M):\n",
        "    #La suma de la diagonal de la matriz de resultados columna la matriz de costos es igual a calcular el costo\n",
        "    S=np.array(C).T@np.array(M)\n",
        "    sol=sum([S[i][i] for i in range(len(S))])\n",
        "    return sol\n",
        "\n",
        "  def norOeste(C,oferta,demanda):\n",
        "    #Construye la matriz de resultados\n",
        "    M=[[0 for i in C[0]] for i in C]\n",
        "    #Recorre todos los valores de la matriz, y hace la asignación\n",
        "    for i in range(len(C)):\n",
        "      for j in range(len(C[0])):\n",
        "        ModeloTransporte.asignar(M,oferta,demanda,i,j)\n",
        "    return M,ModeloTransporte.calcular(C,M)\n",
        "    \n",
        "  def minimoCosto(C,oferta,demanda,M=None,K=None):\n",
        "    #Hace una copia de la matriz de costos\n",
        "    if M==None:\n",
        "      K=np.array(C)\n",
        "      M=[[0 for i in C[0]] for i in K]\n",
        "    #Selecciona los mínimos de cada fila\n",
        "    minimos=[np.min(i) for i in K]\n",
        "    #Toma el argumento minimo del vector de minimos\n",
        "    fila=np.argmin(minimos)\n",
        "    #toma el minimo elemento que concuerde con la columna de minimos\n",
        "    columna=[np.argmin(i) for i in K][fila]\n",
        "\n",
        "    #Asigna y elimina los valores de la matriz\n",
        "    ModeloTransporte.asignar(M,oferta,demanda,fila,columna)\n",
        "    ModeloTransporte.eliminar(K,oferta,demanda)\n",
        "\n",
        "    #Si la suma de demanda y oferta es cero, entonces se terminó el algoritmo\n",
        "    if sum(demanda)+sum(oferta)!=0:\n",
        "      #Cuando la suma no es igual a cero se velve a llamar al método\n",
        "      ModeloTransporte.minimoCosto(C,oferta,demanda,M,K)\n",
        "    \n",
        "    return M,ModeloTransporte.calcular(C,M)\n",
        "    \n",
        "\n",
        "  def vogel(C,oferta,demanda,M=None,K=None):\n",
        "    if M==None:\n",
        "      M=[[0 for i in C[0]] for i in C]\n",
        "      K=np.array(C)\n",
        "    #Obtiene la resta de filas y columnas\n",
        "    pf=[abs(np.sort(K[:,i])[0]-np.sort(K[:,i])[1]) for i in range(len(demanda))]\n",
        "    pc=[abs(np.sort(K[i,:])[0]-np.sort(K[i,:])[1]) for i in range(len(oferta))]\n",
        "\n",
        "    #Si el maximo se encuentra en la resta de filas, se busca el minimo en la columna, en caso contrario hace lo mismo pero con la columna\n",
        "    if np.max(pf)>np.max(pc):\n",
        "      fila,columna=np.argmin(K[:,np.argmax(pf)]),np.argmax(pf)\n",
        "    elif np.max(pf)<=np.max(pc):\n",
        "      fila,columna=np.argmax(pc),np.argmin(K[np.argmax(pc),:])\n",
        "    #Asigna en la fila y columna encontrada\n",
        "    ModeloTransporte.asignar(M,oferta,demanda,fila,columna)\n",
        "    ModeloTransporte.eliminar(K,oferta,demanda)\n",
        "    #Si la suma da cero el algoritmo termina y si no entonces se vuelve a enviar la matriz al algoritmo\n",
        "    if sum(demanda)+sum(oferta)!=0:\n",
        "      ModeloTransporte.vogel(C,oferta,demanda,M,K)\n",
        "    return M,ModeloTransporte.calcular(C,M)\n",
        "\n",
        "  def solve(C,oferta,demanda):\n",
        "    m1,s1=ModeloTransporte.norOeste(np.array(C),np.array(oferta),np.array(demanda))\n",
        "    m2,s2=ModeloTransporte.minimoCosto(np.array(C),np.array(oferta),np.array(demanda))\n",
        "    m3,s3=ModeloTransporte.vogel(np.array(C),np.array(oferta),np.array(demanda))\n",
        "    return [m1,m2,m3][np.argmin([s1,s2,s3])],np.min([s1,s2,s3])\n",
        "  "
      ],
      "metadata": {
        "id": "3MkAMjP9LR3R"
      },
      "execution_count": 45,
      "outputs": []
    },
    {
      "cell_type": "code",
      "source": [
        "C=[[10,2,20,11],\n",
        "   [12,7,9,20],\n",
        "   [4,14,16,18]]\n",
        "oferta=[15,25,10]\n",
        "demanda=[5,15,15,15]\n",
        "m,s=ModeloTransporte.solve(C,oferta,demanda)\n",
        "mostrar(m)\n",
        "print(s)"
      ],
      "metadata": {
        "colab": {
          "base_uri": "https://localhost:8080/",
          "height": 95
        },
        "id": "mfWAPu_TgV5d",
        "outputId": "330afc98-4755-4b8a-9185-0885daf80c43"
      },
      "execution_count": 46,
      "outputs": [
        {
          "output_type": "display_data",
          "data": {
            "text/latex": "\\left[\\begin{matrix}0&15&0&0\\\\0&0&15&10\\\\5&0&0&5\\end{matrix}\\right]"
          },
          "metadata": {}
        },
        {
          "output_type": "stream",
          "name": "stdout",
          "text": [
            "475\n"
          ]
        }
      ]
    },
    {
      "cell_type": "code",
      "source": [
        "C=[[800,1300,400,700],\n",
        "   [1100,1400,600,100],\n",
        "   [600,1200,800,900]]\n",
        "oferta=[12,17,11]\n",
        "demanda=[10,10,10,10]\n",
        "m,s=ModeloTransporte.solve(C,oferta,demanda)\n",
        "mostrar(m)\n",
        "print(s)"
      ],
      "metadata": {
        "id": "6Q4qVn59yrWB",
        "outputId": "ec881f56-39b7-4a8c-ef07-4574af66fb64",
        "colab": {
          "base_uri": "https://localhost:8080/",
          "height": 95
        }
      },
      "execution_count": 42,
      "outputs": [
        {
          "output_type": "display_data",
          "data": {
            "text/latex": "\\left[\\begin{matrix}0&2&10&0\\\\0&7&0&10\\\\10&1&0&0\\end{matrix}\\right]"
          },
          "metadata": {}
        },
        {
          "output_type": "stream",
          "name": "stdout",
          "text": [
            "24600\n"
          ]
        }
      ]
    },
    {
      "cell_type": "code",
      "source": [
        "C=[[800,700,500,200],\n",
        "   [500,200,100,300],\n",
        "   [600,400,300,500]]\n",
        "oferta=[60,80,40]\n",
        "demanda=[40,60,20,60]\n",
        "m,s=ModeloTransporte.solve(C,oferta,demanda)\n",
        "mostrar(m)\n",
        "print(s)"
      ],
      "metadata": {
        "id": "ED8R8HqqzW_r",
        "outputId": "07a4cd6d-dffc-4b51-8227-f98bd7856354",
        "colab": {
          "base_uri": "https://localhost:8080/",
          "height": 95
        }
      },
      "execution_count": 43,
      "outputs": [
        {
          "output_type": "display_data",
          "data": {
            "text/latex": "\\left[\\begin{matrix}0&0&0&60\\\\0&60&20&0\\\\40&0&0&0\\end{matrix}\\right]"
          },
          "metadata": {}
        },
        {
          "output_type": "stream",
          "name": "stdout",
          "text": [
            "50000\n"
          ]
        }
      ]
    }
  ]
}