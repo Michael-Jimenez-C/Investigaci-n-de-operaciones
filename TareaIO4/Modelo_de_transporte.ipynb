{
  "nbformat": 4,
  "nbformat_minor": 0,
  "metadata": {
    "colab": {
      "provenance": [],
      "authorship_tag": "ABX9TyO2Wtdv8u1fgtkjOvCkYurC",
      "include_colab_link": true
    },
    "kernelspec": {
      "name": "python3",
      "display_name": "Python 3"
    },
    "language_info": {
      "name": "python"
    }
  },
  "cells": [
    {
      "cell_type": "markdown",
      "metadata": {
        "id": "view-in-github",
        "colab_type": "text"
      },
      "source": [
        "<a href=\"https://colab.research.google.com/github/Michael-Jimenez-C/Investigaci-n-de-operaciones/blob/main/TareaIO4/Modelo_de_transporte.ipynb\" target=\"_parent\"><img src=\"https://colab.research.google.com/assets/colab-badge.svg\" alt=\"Open In Colab\"/></a>"
      ]
    },
    {
      "cell_type": "code",
      "source": [
        "import numpy as np\n",
        "from IPython.display import Latex, display_latex"
      ],
      "metadata": {
        "id": "AdtQDGiiseg1"
      },
      "execution_count": 1,
      "outputs": []
    },
    {
      "cell_type": "code",
      "source": [
        "class ModeloTransporte:\n",
        "  def asignar(Ma,oferta,demanda, i,j):\n",
        "    if oferta[i]==0 and demanda[i]==0:\n",
        "      return None\n",
        "    #Se encarga de asignar la oferta, revisa si se puede colocar la oferta disponible o si no coloca la demanda disponible\n",
        "    if oferta[i]<=demanda[j]: \n",
        "      Ma[i][j]=oferta[i]\n",
        "    else:\n",
        "    #Elimina la demanda y oferta de sus vectores\n",
        "      Ma[i][j]=demanda[j]\n",
        "    oferta[i]-=Ma[i][j]\n",
        "    demanda[j]-=Ma[i][j]\n",
        "\n",
        "  def calcular(C,M):#La suma de la diagonal de la matriz de resultados y la matriz de costos es igual a calcular el costo\n",
        "    S=np.array(C).T@np.array(M)\n",
        "    sol=sum([S[i][i] for i in range(len(S))])\n",
        "    return sol\n",
        "\n",
        "\n",
        "  def solNO(Ma,oferta,demanda,i=0,j=0):\n",
        "    #Solucion noroeste\n",
        "    #Asigna un valor a la posicion i j\n",
        "    ModeloTransporte.asignar(Ma,oferta,demanda,i,j)\n",
        "\n",
        "    #si la oferta o la demanda no es igual a cero despues de la asignacion asigna a la siguiente casilla\n",
        "    if oferta[i]!=0:\n",
        "      return ModeloTransporte.solNO(Ma,oferta,demanda,i,j+1)\n",
        "    elif demanda[j]!=0:\n",
        "      return ModeloTransporte.solNO(Ma,oferta,demanda,i+1,j)\n",
        "    #Si la oferta y la demanda son cero y ademas la suma de vectores demanda y oferta es igual a cero, entonces se terminó el ejercicio, si no pasa la la submatriz del siguiente paso\n",
        "    if oferta[i]==0 and demanda[j]==0 and sum(demanda)+sum(oferta)!=0:\n",
        "      return ModeloTransporte.solNO(Ma,oferta,demanda,i+1,j+1)\n",
        "    \n",
        "    return Ma,oferta,demanda\n",
        "\n",
        "\n",
        "  def norOeste(C,oferta,demanda):\n",
        "    #Construye la matriz de resultados\n",
        "    M=[[0 for i in C[0]] for i in C]\n",
        "    ModeloTransporte.solNO(M,oferta,demanda)\n",
        "    return M,ModeloTransporte.calcular(C,M)\n",
        "    \n",
        "  def minimoCosto(C,oferta,demanda,M=None,K=None):\n",
        "    #Hace una copia de la matriz de costos\n",
        "    if M==None:\n",
        "      K=np.array(C)\n",
        "      M=[[0 for i in C[0]] for i in K]\n",
        "    #Recorre las columnas de la matriz, selecciona el minimo y le asigna un valor\n",
        "    for i in range(len(C[0])):\n",
        "      ModeloTransporte.asignar(M,oferta,demanda,np.argmin(K.T[i]),i)\n",
        "    \n",
        "    \n",
        "    for i in range(len(oferta)):\n",
        "      if(oferta[i]==0):\n",
        "        K[i,:]=np.ones(len(K[i,:]))*1e5\n",
        "    for i in range(len(demanda)):\n",
        "      if(demanda[i]==0):\n",
        "        K[:,i]=np.ones(len(K[:,i]))*1e5\n",
        "    print(M)\n",
        "    if sum(demanda)+sum(oferta)!=0:\n",
        "      ModeloTransporte.minimoCosto(C,oferta,demanda,M,K)\n",
        "    \n",
        "    return M,ModeloTransporte.calcular(C,M)\n",
        "    \n",
        "\n",
        "  def vogel(C,oferta,demanda):\n",
        "    M=[[0 for i in C[0]] for i in C]\n",
        "  "
      ],
      "metadata": {
        "id": "PS8SZcdYg4Gr"
      },
      "execution_count": 48,
      "outputs": []
    },
    {
      "cell_type": "code",
      "source": [
        "C=[[10,2,20,11],[12,7,9,20],[4,14,16,18]]\n",
        "oferta=[15,25,10]\n",
        "demanda=[5,15,15,15]\n",
        "ModeloTransporte.norOeste(C,oferta,demanda)"
      ],
      "metadata": {
        "colab": {
          "base_uri": "https://localhost:8080/"
        },
        "id": "PSFeai4qdlbT",
        "outputId": "f151c0b7-cff6-4ab2-eafb-252cd464ed1e"
      },
      "execution_count": 44,
      "outputs": [
        {
          "output_type": "execute_result",
          "data": {
            "text/plain": [
              "([[5, 10, 0, 0], [0, 5, 15, 5], [0, 0, 0, 10]], 520)"
            ]
          },
          "metadata": {},
          "execution_count": 44
        }
      ]
    },
    {
      "cell_type": "code",
      "source": [
        "C=[[10,2,20,11],[12,7,9,20],[4,14,16,18]]\n",
        "oferta=[15,25,10]\n",
        "demanda=[5,15,15,15]\n",
        "ModeloTransporte.minimoCosto(C,oferta,demanda)"
      ],
      "metadata": {
        "colab": {
          "base_uri": "https://localhost:8080/"
        },
        "id": "4Fefg08hFbfM",
        "outputId": "9d8de27b-0c49-4995-caa0-d3c66ad5a0bb"
      },
      "execution_count": 49,
      "outputs": [
        {
          "output_type": "stream",
          "name": "stdout",
          "text": [
            "[[0, 15, 0, 0], [0, 0, 15, 0], [5, 0, 0, 0]]\n",
            "[[0, 15, 0, 0], [0, 0, 15, 0], [5, 0, 0, 5]]\n",
            "[[0, 15, 0, 0], [0, 0, 15, 10], [5, 0, 0, 5]]\n"
          ]
        },
        {
          "output_type": "execute_result",
          "data": {
            "text/plain": [
              "([[0, 15, 0, 0], [0, 0, 15, 10], [5, 0, 0, 5]], 475)"
            ]
          },
          "metadata": {},
          "execution_count": 49
        }
      ]
    },
    {
      "cell_type": "code",
      "source": [
        "C=[[10,2,20,11],[12,7,9,20],[4,14,16,18]]\n",
        "oferta=[15,25,10]\n",
        "demanda=[5,15,15,15]\n",
        "ModeloTransporte.vogel(C,oferta,demanda)"
      ],
      "metadata": {
        "id": "mfWAPu_TgV5d"
      },
      "execution_count": null,
      "outputs": []
    }
  ]
}