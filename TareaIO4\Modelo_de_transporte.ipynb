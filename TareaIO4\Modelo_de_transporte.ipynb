{
  "nbformat": 4,
  "nbformat_minor": 0,
  "metadata": {
    "colab": {
      "provenance": [],
      "authorship_tag": "ABX9TyN3dEBZYnVrvMqeOyhdS/Mq",
      "include_colab_link": true
    },
    "kernelspec": {
      "name": "python3",
      "display_name": "Python 3"
    },
    "language_info": {
      "name": "python"
    }
  },
  "cells": [
    {
      "cell_type": "markdown",
      "metadata": {
        "id": "view-in-github",
        "colab_type": "text"
      },
      "source": [
        "<a href=\"https://colab.research.google.com/github/Michael-Jimenez-C/Investigaci-n-de-operaciones/blob/main/TareaIO4%5CModelo_de_transporte.ipynb\" target=\"_parent\"><img src=\"https://colab.research.google.com/assets/colab-badge.svg\" alt=\"Open In Colab\"/></a>"
      ]
    },
    {
      "cell_type": "code",
      "source": [
        "import numpy as np\n",
        "from IPython.display import Latex, display_latex"
      ],
      "metadata": {
        "id": "AdtQDGiiseg1"
      },
      "execution_count": null,
      "outputs": []
    },
    {
      "cell_type": "code",
      "source": [
        "class ModeloTransporte:\n",
        "  def asignar(Ma,oferta,demanda, i,j):\n",
        "    if oferta[i]<=demanda[j]: \n",
        "      Ma[i][j]=oferta[i]\n",
        "    else:\n",
        "      Ma[i][j]=demanda[j]\n",
        "    oferta[i]-=Ma[i][j]\n",
        "    demanda[j]-=Ma[i][j]\n",
        "\n",
        "  def solNO(Ma,oferta,demanda,i=0,j=0):\n",
        "    ModeloTransporte.asignar(Ma,oferta,demanda,i,j)\n",
        "    if oferta[i]!=0:\n",
        "      return ModeloTransporte.solNO(Ma,oferta,demanda,i,j+1)\n",
        "    elif demanda[j]!=0:\n",
        "      return ModeloTransporte.solNO(Ma,oferta,demanda,i+1,j)\n",
        "\n",
        "    if oferta[i]==0 and demanda[j]==0 and sum(demanda)+sum(oferta)!=0:\n",
        "      return ModeloTransporte.solNO(Ma,oferta,demanda,i+1,j+1)\n",
        "    \n",
        "    return Ma,oferta,demanda\n",
        "  def norOeste(C,oferta,demanda):\n",
        "    M=[[0 for i in C[0]] for i in C]\n",
        "    ModeloTransporte.solNO(M,oferta,demanda)\n",
        "    S=np.array(C).T@np.array(M)\n",
        "    Sol=sum([S[i][i] for i in range(len(S))])\n",
        "    return M,Sol\n",
        "\n",
        "\n",
        "\n",
        "  \n",
        "  def minimoCosto(C,oferta,demanda):\n",
        "    C=np.array(C)\n",
        "    M=[[0 for i in C[0]] for i in C]\n",
        "    for i in range(len(C[0])):\n",
        "      ModeloTransporte.asignar(M,oferta,demanda,np.argmin(C.T[i]),i)\n",
        "    "
      ],
      "metadata": {
        "id": "PUT_2K10Dern"
      },
      "execution_count": 150,
      "outputs": []
    },
    {
      "cell_type": "code",
      "source": [
        "C=[[10,2,20,11],[12,7,9,20],[4,14,16,18]]\n",
        "oferta=[15,25,10]\n",
        "demanda=[5,15,15,15]\n",
        "ModeloTransporte.norOeste(C,oferta,demanda)"
      ],
      "metadata": {
        "colab": {
          "base_uri": "https://localhost:8080/"
        },
        "id": "PSFeai4qdlbT",
        "outputId": "4e0aebfd-d43a-47e8-c72e-9fde8e4e2a46"
      },
      "execution_count": 141,
      "outputs": [
        {
          "output_type": "execute_result",
          "data": {
            "text/plain": [
              "([[5, 10, 0, 0], [0, 5, 15, 5], [0, 0, 0, 10]], 520)"
            ]
          },
          "metadata": {},
          "execution_count": 141
        }
      ]
    },
    {
      "cell_type": "code",
      "source": [
        "C=[[10,2,20,11],[12,7,9,20],[4,14,16,18]]\n",
        "oferta=[15,25,10]\n",
        "demanda=[5,15,15,15]\n",
        "ModeloTransporte.minimoCosto(C,oferta,demanda)"
      ],
      "metadata": {
        "colab": {
          "base_uri": "https://localhost:8080/"
        },
        "id": "4Fefg08hFbfM",
        "outputId": "2b2dfb16-99e9-4fe0-8d82-dfdd40fb3fa0"
      },
      "execution_count": 151,
      "outputs": [
        {
          "output_type": "stream",
          "name": "stdout",
          "text": [
            "[[0, 15, 0, 0], [0, 0, 15, 0], [5, 0, 0, 0]]\n"
          ]
        }
      ]
    }
  ]
}