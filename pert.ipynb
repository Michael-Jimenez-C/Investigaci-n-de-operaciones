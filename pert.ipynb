{
  "nbformat": 4,
  "nbformat_minor": 0,
  "metadata": {
    "colab": {
      "provenance": [],
      "authorship_tag": "ABX9TyNWkB1N6PupEeeWJrPb2Glj",
      "include_colab_link": true
    },
    "kernelspec": {
      "name": "python3",
      "display_name": "Python 3"
    },
    "language_info": {
      "name": "python"
    }
  },
  "cells": [
    {
      "cell_type": "markdown",
      "metadata": {
        "id": "view-in-github",
        "colab_type": "text"
      },
      "source": [
        "<a href=\"https://colab.research.google.com/github/Michael-Jimenez-C/Investigaci-n-de-operaciones/blob/main/pert.ipynb\" target=\"_parent\"><img src=\"https://colab.research.google.com/assets/colab-badge.svg\" alt=\"Open In Colab\"/></a>"
      ]
    },
    {
      "cell_type": "code",
      "execution_count": 38,
      "metadata": {
        "id": "NCt9oh8oXP6y"
      },
      "outputs": [],
      "source": [
        "import pandas as pd\n",
        "import numpy as np\n",
        "import matplotlib.pyplot as plt"
      ]
    },
    {
      "cell_type": "code",
      "source": [
        "df=pd.DataFrame({\"Actividad\":\"1 2 3 4 5 6 7 8 9 10 11 12 13 14 15\".split(\" \"),\n",
        "                 \"Tiempo\":[40,30,30,40,40,60,40,50,30,50,5,30,30,30,10],\n",
        "                 \"dependencia\":[\"0\",\"0\",\"0\",\"0\",\"0\",\"0\",\"0\",\"0\",\"0\",\"0\",\"0\",\"2,3,4,5,6,7\",\"8,9\",\"10\",\"1,11,12,13,14\"]})"
      ],
      "metadata": {
        "id": "lWVHpGDlhcVM"
      },
      "execution_count": 3,
      "outputs": []
    },
    {
      "cell_type": "code",
      "source": [
        "df"
      ],
      "metadata": {
        "colab": {
          "base_uri": "https://localhost:8080/",
          "height": 520
        },
        "id": "9fWkLsMiilIN",
        "outputId": "30329c10-5b35-4443-eeec-6f91b6c81ffa"
      },
      "execution_count": 4,
      "outputs": [
        {
          "output_type": "execute_result",
          "data": {
            "text/plain": [
              "   Actividad  Tiempo    dependencia\n",
              "0          1      40              0\n",
              "1          2      30              0\n",
              "2          3      30              0\n",
              "3          4      40              0\n",
              "4          5      40              0\n",
              "5          6      60              0\n",
              "6          7      40              0\n",
              "7          8      50              0\n",
              "8          9      30              0\n",
              "9         10      50              0\n",
              "10        11       5              0\n",
              "11        12      30    2,3,4,5,6,7\n",
              "12        13      30            8,9\n",
              "13        14      30             10\n",
              "14        15      10  1,11,12,13,14"
            ],
            "text/html": [
              "\n",
              "  <div id=\"df-f689ad7b-de95-4dac-8704-1d1a1f1fd693\">\n",
              "    <div class=\"colab-df-container\">\n",
              "      <div>\n",
              "<style scoped>\n",
              "    .dataframe tbody tr th:only-of-type {\n",
              "        vertical-align: middle;\n",
              "    }\n",
              "\n",
              "    .dataframe tbody tr th {\n",
              "        vertical-align: top;\n",
              "    }\n",
              "\n",
              "    .dataframe thead th {\n",
              "        text-align: right;\n",
              "    }\n",
              "</style>\n",
              "<table border=\"1\" class=\"dataframe\">\n",
              "  <thead>\n",
              "    <tr style=\"text-align: right;\">\n",
              "      <th></th>\n",
              "      <th>Actividad</th>\n",
              "      <th>Tiempo</th>\n",
              "      <th>dependencia</th>\n",
              "    </tr>\n",
              "  </thead>\n",
              "  <tbody>\n",
              "    <tr>\n",
              "      <th>0</th>\n",
              "      <td>1</td>\n",
              "      <td>40</td>\n",
              "      <td>0</td>\n",
              "    </tr>\n",
              "    <tr>\n",
              "      <th>1</th>\n",
              "      <td>2</td>\n",
              "      <td>30</td>\n",
              "      <td>0</td>\n",
              "    </tr>\n",
              "    <tr>\n",
              "      <th>2</th>\n",
              "      <td>3</td>\n",
              "      <td>30</td>\n",
              "      <td>0</td>\n",
              "    </tr>\n",
              "    <tr>\n",
              "      <th>3</th>\n",
              "      <td>4</td>\n",
              "      <td>40</td>\n",
              "      <td>0</td>\n",
              "    </tr>\n",
              "    <tr>\n",
              "      <th>4</th>\n",
              "      <td>5</td>\n",
              "      <td>40</td>\n",
              "      <td>0</td>\n",
              "    </tr>\n",
              "    <tr>\n",
              "      <th>5</th>\n",
              "      <td>6</td>\n",
              "      <td>60</td>\n",
              "      <td>0</td>\n",
              "    </tr>\n",
              "    <tr>\n",
              "      <th>6</th>\n",
              "      <td>7</td>\n",
              "      <td>40</td>\n",
              "      <td>0</td>\n",
              "    </tr>\n",
              "    <tr>\n",
              "      <th>7</th>\n",
              "      <td>8</td>\n",
              "      <td>50</td>\n",
              "      <td>0</td>\n",
              "    </tr>\n",
              "    <tr>\n",
              "      <th>8</th>\n",
              "      <td>9</td>\n",
              "      <td>30</td>\n",
              "      <td>0</td>\n",
              "    </tr>\n",
              "    <tr>\n",
              "      <th>9</th>\n",
              "      <td>10</td>\n",
              "      <td>50</td>\n",
              "      <td>0</td>\n",
              "    </tr>\n",
              "    <tr>\n",
              "      <th>10</th>\n",
              "      <td>11</td>\n",
              "      <td>5</td>\n",
              "      <td>0</td>\n",
              "    </tr>\n",
              "    <tr>\n",
              "      <th>11</th>\n",
              "      <td>12</td>\n",
              "      <td>30</td>\n",
              "      <td>2,3,4,5,6,7</td>\n",
              "    </tr>\n",
              "    <tr>\n",
              "      <th>12</th>\n",
              "      <td>13</td>\n",
              "      <td>30</td>\n",
              "      <td>8,9</td>\n",
              "    </tr>\n",
              "    <tr>\n",
              "      <th>13</th>\n",
              "      <td>14</td>\n",
              "      <td>30</td>\n",
              "      <td>10</td>\n",
              "    </tr>\n",
              "    <tr>\n",
              "      <th>14</th>\n",
              "      <td>15</td>\n",
              "      <td>10</td>\n",
              "      <td>1,11,12,13,14</td>\n",
              "    </tr>\n",
              "  </tbody>\n",
              "</table>\n",
              "</div>\n",
              "      <button class=\"colab-df-convert\" onclick=\"convertToInteractive('df-f689ad7b-de95-4dac-8704-1d1a1f1fd693')\"\n",
              "              title=\"Convert this dataframe to an interactive table.\"\n",
              "              style=\"display:none;\">\n",
              "        \n",
              "  <svg xmlns=\"http://www.w3.org/2000/svg\" height=\"24px\"viewBox=\"0 0 24 24\"\n",
              "       width=\"24px\">\n",
              "    <path d=\"M0 0h24v24H0V0z\" fill=\"none\"/>\n",
              "    <path d=\"M18.56 5.44l.94 2.06.94-2.06 2.06-.94-2.06-.94-.94-2.06-.94 2.06-2.06.94zm-11 1L8.5 8.5l.94-2.06 2.06-.94-2.06-.94L8.5 2.5l-.94 2.06-2.06.94zm10 10l.94 2.06.94-2.06 2.06-.94-2.06-.94-.94-2.06-.94 2.06-2.06.94z\"/><path d=\"M17.41 7.96l-1.37-1.37c-.4-.4-.92-.59-1.43-.59-.52 0-1.04.2-1.43.59L10.3 9.45l-7.72 7.72c-.78.78-.78 2.05 0 2.83L4 21.41c.39.39.9.59 1.41.59.51 0 1.02-.2 1.41-.59l7.78-7.78 2.81-2.81c.8-.78.8-2.07 0-2.86zM5.41 20L4 18.59l7.72-7.72 1.47 1.35L5.41 20z\"/>\n",
              "  </svg>\n",
              "      </button>\n",
              "      \n",
              "  <style>\n",
              "    .colab-df-container {\n",
              "      display:flex;\n",
              "      flex-wrap:wrap;\n",
              "      gap: 12px;\n",
              "    }\n",
              "\n",
              "    .colab-df-convert {\n",
              "      background-color: #E8F0FE;\n",
              "      border: none;\n",
              "      border-radius: 50%;\n",
              "      cursor: pointer;\n",
              "      display: none;\n",
              "      fill: #1967D2;\n",
              "      height: 32px;\n",
              "      padding: 0 0 0 0;\n",
              "      width: 32px;\n",
              "    }\n",
              "\n",
              "    .colab-df-convert:hover {\n",
              "      background-color: #E2EBFA;\n",
              "      box-shadow: 0px 1px 2px rgba(60, 64, 67, 0.3), 0px 1px 3px 1px rgba(60, 64, 67, 0.15);\n",
              "      fill: #174EA6;\n",
              "    }\n",
              "\n",
              "    [theme=dark] .colab-df-convert {\n",
              "      background-color: #3B4455;\n",
              "      fill: #D2E3FC;\n",
              "    }\n",
              "\n",
              "    [theme=dark] .colab-df-convert:hover {\n",
              "      background-color: #434B5C;\n",
              "      box-shadow: 0px 1px 3px 1px rgba(0, 0, 0, 0.15);\n",
              "      filter: drop-shadow(0px 1px 2px rgba(0, 0, 0, 0.3));\n",
              "      fill: #FFFFFF;\n",
              "    }\n",
              "  </style>\n",
              "\n",
              "      <script>\n",
              "        const buttonEl =\n",
              "          document.querySelector('#df-f689ad7b-de95-4dac-8704-1d1a1f1fd693 button.colab-df-convert');\n",
              "        buttonEl.style.display =\n",
              "          google.colab.kernel.accessAllowed ? 'block' : 'none';\n",
              "\n",
              "        async function convertToInteractive(key) {\n",
              "          const element = document.querySelector('#df-f689ad7b-de95-4dac-8704-1d1a1f1fd693');\n",
              "          const dataTable =\n",
              "            await google.colab.kernel.invokeFunction('convertToInteractive',\n",
              "                                                     [key], {});\n",
              "          if (!dataTable) return;\n",
              "\n",
              "          const docLinkHtml = 'Like what you see? Visit the ' +\n",
              "            '<a target=\"_blank\" href=https://colab.research.google.com/notebooks/data_table.ipynb>data table notebook</a>'\n",
              "            + ' to learn more about interactive tables.';\n",
              "          element.innerHTML = '';\n",
              "          dataTable['output_type'] = 'display_data';\n",
              "          await google.colab.output.renderOutput(dataTable, element);\n",
              "          const docLink = document.createElement('div');\n",
              "          docLink.innerHTML = docLinkHtml;\n",
              "          element.appendChild(docLink);\n",
              "        }\n",
              "      </script>\n",
              "    </div>\n",
              "  </div>\n",
              "  "
            ]
          },
          "metadata": {},
          "execution_count": 4
        }
      ]
    },
    {
      "cell_type": "code",
      "source": [
        "class Nodo:\n",
        "  def __init__(self,contenido):\n",
        "    self.contenido=contenido\n",
        "    self.padres=[]\n",
        "    self.next=[]\n",
        "  def agregar(self,nodo):\n",
        "    if nodo not in self.next:\n",
        "      nodo.padres.append(self)\n",
        "      self.next.append(nodo)\n",
        "  def __repr__(self):\n",
        "    return str(self.contenido) if self.contenido!=None else \"\""
      ],
      "metadata": {
        "id": "ucbbLJmVirhC"
      },
      "execution_count": 62,
      "outputs": []
    },
    {
      "cell_type": "code",
      "source": [
        "class Proyecto:\n",
        "  def __init__(self,actividades,tiempos,dependencias):\n",
        "    nodos=[Nodo({\"actividad\":\"0\",\n",
        "         \"t\":0,\n",
        "         \"dep\":None})]\n",
        "    for i in range(len(actividades)):\n",
        "      k={\"actividad\":actividades[i],\n",
        "         \"t\":tiempos[i],\n",
        "         \"dep\":dependencias[i].split(\",\")}\n",
        "      nodos.append(Nodo(k))\n",
        "    \n",
        "    for i in nodos:\n",
        "      for j in nodos:\n",
        "        if i.contenido[\"dep\"]!=None:\n",
        "          if j.contenido[\"actividad\"] in i.contenido[\"dep\"]:\n",
        "            j.agregar(i)\n",
        "    self.nodos=nodos\n",
        "  def rutaCritica(self) :\n",
        "    for i,k in enumerate(self.nodos):\n",
        "      k.contenido[\"tmax\"]=np.inf\n",
        "      k.contenido[\"tmin\"]=0\n",
        "      k.contenido[\"t0\"]=0\n",
        "      max=0\n",
        "\n",
        "    for i in self.nodos:\n",
        "      for j in i.next:\n",
        "        j.contenido[\"tmin\"]=np.maximum(j.contenido[\"tmin\"],i.contenido[\"tmin\"]+j.contenido[\"t\"])\n",
        "        j.contenido[\"t0\"]=np.maximum(j.contenido[\"t0\"],i.contenido[\"t0\"]+i.contenido[\"t\"])\n",
        "\n",
        "        if len(j.next)==len([]):\n",
        "          j.contenido[\"tmax\"]=j.contenido[\"tmin\"]\n",
        "          j.contenido[\"TRC\"]=j.contenido[\"tmax\"]-j.contenido[\"tmin\"]\n",
        "\n",
        "          if max<j.contenido[\"tmax\"]:\n",
        "            max=j.contenido[\"tmax\"]\n",
        "\n",
        "            \n",
        "    for i in reversed(self.nodos):\n",
        "      for j in i.padres:\n",
        "        j.contenido[\"tmax\"]=np.minimum(j.contenido[\"tmax\"],i.contenido[\"tmax\"]-i.contenido[\"t\"])\n",
        "        j.contenido[\"TRC\"]=j.contenido[\"tmax\"]-j.contenido[\"tmin\"]\n",
        "    self.max=max\n",
        "\n",
        "  def __gantc__(self,x):\n",
        "    u=lambda x,l,s:np.piecewise(x, [x<l,(x>=l)*(x<=s),x>s],[lambda x: 0*x, lambda x: 1+0*x, lambda x: 0*x])\n",
        "    f=[]\n",
        "    for i in self.nodos:\n",
        "      x_l=i.contenido[\"t0\"]\n",
        "      x_s=x_l+i.contenido[\"t\"]\n",
        "      f.append(u(x,x_l,x_s))\n",
        "    return f\n",
        "  def gant(self):\n",
        "    x=np.linspace(0,self.max,self.max*2)\n",
        "    f=self.__gantc__(x)\n",
        "\n",
        "    for i in enumerate(f):\n",
        "      plt.plot(x,i[1]*i[0],label=r\"Actividad \"+r\"$\"+str(i[0])+r\"$\")\n",
        "    plt.yticks([i for i in range(0,len(f))])\n",
        "    plt.ylabel(\"ACTIVIDAD\")\n",
        "    plt.xlabel(\"TIEMPO\")\n",
        "    plt.title(\"DIAGRAMA DE GANT\")\n",
        "    plt.grid()\n",
        "    plt.tight_layout()\n",
        "    return plt\n",
        "  \n",
        "  def digrama_recurso_vs_tiempo(self,asignacion_recurso,maximo_recurso):\n",
        "    x=np.linspace(0,self.max,self.max*2)\n",
        "    rec=[0]\n",
        "    rec.extend(asignacion_recurso)\n",
        "    f=self.__gantc__(x)\n",
        "    y=sum([f[i]*rec[i] for i in range(len(f))])\n",
        "\n",
        "    plt.plot(x,y)\n",
        "    plt.plot(x,0*x+maximo_recurso)\n",
        "    plt.xlabel(\"TIEMPO\")\n",
        "    plt.ylabel(\"RECURSO\")   \n",
        "    plt.title(\"RECURSO VS TIEMPO\") \n",
        "    plt.grid()\n",
        "    plt.tight_layout()\n",
        "    return plt"
      ],
      "metadata": {
        "id": "iaKY8QvrkET1"
      },
      "execution_count": 172,
      "outputs": []
    },
    {
      "cell_type": "code",
      "source": [
        "s=Proyecto(df[\"Actividad\"],df[\"Tiempo\"],df[\"dependencia\"])"
      ],
      "metadata": {
        "id": "NsSPcOSHnc28"
      },
      "execution_count": 173,
      "outputs": []
    },
    {
      "cell_type": "code",
      "source": [
        "s.rutaCritica()"
      ],
      "metadata": {
        "id": "ic_v-Z-Pp7j3"
      },
      "execution_count": 174,
      "outputs": []
    },
    {
      "cell_type": "code",
      "source": [
        "s.gant()"
      ],
      "metadata": {
        "colab": {
          "base_uri": "https://localhost:8080/",
          "height": 314
        },
        "id": "l93PHvgjrniG",
        "outputId": "8a1739cf-52c1-4dbb-c2f8-706f4f8910e3"
      },
      "execution_count": 175,
      "outputs": [
        {
          "output_type": "execute_result",
          "data": {
            "text/plain": [
              "<module 'matplotlib.pyplot' from '/usr/local/lib/python3.9/dist-packages/matplotlib/pyplot.py'>"
            ]
          },
          "metadata": {},
          "execution_count": 175
        },
        {
          "output_type": "display_data",
          "data": {
            "text/plain": [
              "<Figure size 432x288 with 1 Axes>"
            ],
            "image/png": "[encoded data removed]"
          },
          "metadata": {
            "needs_background": "light"
          }
        }
      ]
    },
    {
      "cell_type": "code",
      "source": [
        "s.digrama_recurso_vs_tiempo([10,10,10,10,10,10,4,7,10,2,7,1,12,4,5],30)"
      ],
      "metadata": {
        "colab": {
          "base_uri": "https://localhost:8080/",
          "height": 314
        },
        "id": "YcNMJEoG22ge",
        "outputId": "5a1642ac-8084-4b6a-9784-7d0f9091ecaa"
      },
      "execution_count": 176,
      "outputs": [
        {
          "output_type": "execute_result",
          "data": {
            "text/plain": [
              "<module 'matplotlib.pyplot' from '/usr/local/lib/python3.9/dist-packages/matplotlib/pyplot.py'>"
            ]
          },
          "metadata": {},
          "execution_count": 176
        },
        {
          "output_type": "display_data",
          "data": {
            "text/plain": [
              "<Figure size 432x288 with 1 Axes>"
            ],
            "image/png": "[encoded data removed]"
          },
          "metadata": {
            "needs_background": "light"
          }
        }
      ]
    }
  ]
}